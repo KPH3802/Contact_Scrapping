{
 "cells": [
  {
   "cell_type": "markdown",
   "metadata": {},
   "source": [
    "# Contact Scrapping"
   ]
  },
  {
   "cell_type": "code",
   "execution_count": 11,
   "metadata": {},
   "outputs": [],
   "source": [
    "from splinter import Browser\n",
    "from bs4 import BeautifulSoup\n",
    "import re\n",
    "import time\n",
    "import requests\n",
    "from selenium import webdriver\n",
    "import time as t\n",
    "from config import email, password"
   ]
  },
  {
   "cell_type": "code",
   "execution_count": 12,
   "metadata": {},
   "outputs": [
    {
     "name": "stdout",
     "output_type": "stream",
     "text": [
      "/usr/local/bin/chromedriver\r\n"
     ]
    }
   ],
   "source": [
    "!which chromedriver"
   ]
  },
  {
   "cell_type": "code",
   "execution_count": 22,
   "metadata": {},
   "outputs": [],
   "source": [
    "executable_path = {'executable_path': '/usr/local/bin/chromedriver'}\n",
    "browser = Browser('chrome', **executable_path, headless=False)"
   ]
  },
  {
   "cell_type": "markdown",
   "metadata": {},
   "source": [
    "## Visit site and Login"
   ]
  },
  {
   "cell_type": "code",
   "execution_count": 23,
   "metadata": {},
   "outputs": [],
   "source": [
    "# Visit the LinkedIn site\n",
    "url = 'https://www.linkedin.com/login'\n",
    "browser.visit(url)"
   ]
  },
  {
   "cell_type": "code",
   "execution_count": 24,
   "metadata": {},
   "outputs": [],
   "source": [
    "html = browser.html\n",
    "soup = BeautifulSoup(html, 'html.parser')"
   ]
  },
  {
   "cell_type": "code",
   "execution_count": 25,
   "metadata": {},
   "outputs": [
    {
     "data": {
      "text/plain": [
       "[<div class=\"form__input--floating\"><input aria-describedby=\"error-for-username\" aria-label=\"Email or Phone\" autofocus=\"\" id=\"username\" name=\"session_key\" required=\"\" type=\"text\" validation=\"email|tel\"/><label aria-hidden=\"true\" class=\"form__label--floating\" for=\"username\">Email or Phone</label><div aria-live=\"assertive\" class=\"form__label--error hidden\" error-for=\"username\" id=\"error-for-username\" role=\"alert\"></div></div>,\n",
       " <div class=\"form__input--floating\"><input aria-describedby=\"error-for-password\" aria-label=\"Password\" id=\"password\" name=\"session_password\" required=\"\" type=\"password\" validation=\"password\"/><label aria-hidden=\"true\" class=\"form__label--floating\" for=\"password\">Password</label><div aria-live=\"assertive\" class=\"form__label--error hidden\" error-for=\"password\" id=\"error-for-password\" role=\"alert\"></div><span class=\"button__password-visibility\" id=\"password-visibility-toggle\" role=\"button\" tabindex=\"0\">Show</span></div>]"
      ]
     },
     "execution_count": 25,
     "metadata": {},
     "output_type": "execute_result"
    }
   ],
   "source": [
    "# formfloating = soup.find_all('div', class_='form__input--floating')\n",
    "# formfloating"
   ]
  },
  {
   "cell_type": "code",
   "execution_count": 40,
   "metadata": {},
   "outputs": [],
   "source": [
    "# with requests.Session() as s:\n",
    "#     url = 'https://www.linkedin.com/login'\n",
    "#     browser.visit(url)\n",
    "#     site = s.get(\"https://www.linkedin.com/home\")\n",
    "#     bs_content = soup(site.content, \"html.parser\")\n",
    "#     login_data = {\"username\":email,\"password\":password}\n",
    "#     s.post(\"https://www.linkedin.com/home\",login_data)\n",
    "#     home_page = s.get(\"http://quotes.toscrape.com\")"
   ]
  },
  {
   "cell_type": "code",
   "execution_count": 42,
   "metadata": {},
   "outputs": [
    {
     "name": "stdout",
     "output_type": "stream",
     "text": [
      "<Response [200]>\n"
     ]
    }
   ],
   "source": [
    "# email = \"email\"\n",
    "# password = \"Password\"\n",
    "\n",
    "# client = requests.Session()\n",
    "\n",
    "# HOMEPAGE_URL = 'https://www.linkedin.com/login'\n",
    "# LOGIN_URL = 'https://www.linkedin.com/uas/login-submit'\n",
    "\n",
    "# executable_path = {'executable_path': '/usr/local/bin/chromedriver'}\n",
    "# browser = Browser('chrome', **executable_path, headless=False)\n",
    "\n",
    "# url = 'https://www.linkedin.com/login'\n",
    "# browser.visit(url)\n",
    "\n",
    "# html = client.get(url).content\n",
    "# t.sleep(5)\n",
    "# soup = BeautifulSoup(html, \"html.parser\")\n",
    "# csrf = soup.find('input', {'name': 'loginCsrfParam'}).get('value')\n",
    "# t.sleep(5)\n",
    "# login_information = {\n",
    "#     'session_key': email,\n",
    "#     'session_password': password,\n",
    "#     'loginCsrfParam': csrf,\n",
    "#     'trk': 'guest_homepage-basic_sign-in-submit'\n",
    "# }\n",
    "\n",
    "# result = client.post(LOGIN_URL, data=login_information)\n",
    "# # print(csrf)\n",
    "# # response = client.get('')\n",
    "# print(result)"
   ]
  },
  {
   "cell_type": "code",
   "execution_count": 27,
   "metadata": {},
   "outputs": [],
   "source": [
    "executable_path = {'executable_path': '/usr/local/bin/chromedriver'}\n",
    "browser = Browser('chrome', **executable_path, headless=False)\n",
    "\n",
    "\n",
    "url = 'https://www.linkedin.com/login'\n",
    "browser.visit(url)\n",
    "\n",
    "t.sleep(1)\n",
    "browser.find_by_id('username').fill(email)\n",
    "t.sleep(1)\n",
    "browser.find_by_id('password').fill(password)\n",
    "t.sleep(1)\n",
    "browser.find_by_text('Sign in').click()\n"
   ]
  },
  {
   "cell_type": "code",
   "execution_count": 28,
   "metadata": {},
   "outputs": [],
   "source": [
    "browser.find_by_id('mynetwork-tab-icon').click()"
   ]
  },
  {
   "cell_type": "code",
   "execution_count": 29,
   "metadata": {},
   "outputs": [],
   "source": [
    "browser.find_by_text('Connections').click()"
   ]
  },
  {
   "cell_type": "code",
   "execution_count": 16,
   "metadata": {},
   "outputs": [
    {
     "name": "stdout",
     "output_type": "stream",
     "text": [
      "<splinter.element_list.ElementList object at 0x7febccf12a20>\n"
     ]
    }
   ],
   "source": [
    "# contact = browser.find_by_text('Member’s name')\n",
    "# print(contact)"
   ]
  },
  {
   "cell_type": "code",
   "execution_count": 17,
   "metadata": {},
   "outputs": [],
   "source": [
    "html = browser.html\n",
    "soup = BeautifulSoup(html, 'html.parser')"
   ]
  },
  {
   "cell_type": "code",
   "execution_count": 36,
   "metadata": {},
   "outputs": [],
   "source": [
    "# contact = soup.find_all(\"span\", class_=\"mn-connection-card__name t-16 t-black t-bold\")\n",
    "# contact"
   ]
  },
  {
   "cell_type": "code",
   "execution_count": 31,
   "metadata": {},
   "outputs": [],
   "source": [
    "browser.find_by_text(\"Search with filters\").click()"
   ]
  },
  {
   "cell_type": "code",
   "execution_count": 33,
   "metadata": {},
   "outputs": [],
   "source": [
    "browser.execute_script(\"window.scrollTo(0, -document.body.scrollHeight);\")"
   ]
  },
  {
   "cell_type": "code",
   "execution_count": 37,
   "metadata": {},
   "outputs": [
    {
     "data": {
      "text/plain": [
       "[<span class=\"name actor-name\">Coco Meers</span>,\n",
       " <span class=\"name actor-name\">Annie Hickman, CFA</span>,\n",
       " <span class=\"name actor-name\">Ken Blickenstaff CFA</span>,\n",
       " <span class=\"name actor-name\">Edward Woodford</span>,\n",
       " <span class=\"name actor-name\">Nilendu Ghosh</span>,\n",
       " <span class=\"name actor-name\">Mike Pintar</span>,\n",
       " <span class=\"name actor-name\">Matthew Carinato</span>,\n",
       " <span class=\"name actor-name\">Joshua McLin</span>,\n",
       " <span class=\"name actor-name\">Boris Kholyavsky</span>,\n",
       " <span class=\"name actor-name\">Jonathan Kuether</span>]"
      ]
     },
     "execution_count": 37,
     "metadata": {},
     "output_type": "execute_result"
    }
   ],
   "source": [
    "html = browser.html\n",
    "soup = BeautifulSoup(html, 'html.parser')\n",
    "contact_name = soup.find_all(\"span\", class_=\"name actor-name\")\n",
    "contact_name"
   ]
  },
  {
   "cell_type": "code",
   "execution_count": 38,
   "metadata": {},
   "outputs": [
    {
     "data": {
      "text/plain": [
       "['Coco Meers',\n",
       " 'Annie Hickman, CFA',\n",
       " 'Ken Blickenstaff CFA',\n",
       " 'Edward Woodford',\n",
       " 'Nilendu Ghosh',\n",
       " 'Mike Pintar',\n",
       " 'Matthew Carinato',\n",
       " 'Joshua McLin',\n",
       " 'Boris Kholyavsky',\n",
       " 'Jonathan Kuether']"
      ]
     },
     "execution_count": 38,
     "metadata": {},
     "output_type": "execute_result"
    }
   ],
   "source": [
    "Name_list = []\n",
    "for i in contact_name:\n",
    "#   print(i.text)\n",
    "    Name_list.append(i.text)\n",
    "Name_list"
   ]
  },
  {
   "cell_type": "code",
   "execution_count": 41,
   "metadata": {},
   "outputs": [
    {
     "data": {
      "text/plain": [
       "[<p class=\"subline-level-1 t-14 t-black t-normal search-result__truncate\">\n",
       "         CEO &amp; Co-Founder at Equilibria\n",
       "     </p>,\n",
       " <p class=\"subline-level-1 t-14 t-black t-normal search-result__truncate\">\n",
       "         Principal at Boston Consulting Group (BCG)\n",
       "     </p>,\n",
       " <p class=\"subline-level-1 t-14 t-black t-normal search-result__truncate\">\n",
       "         CEO at Titan Investment Management LLC\n",
       "     </p>,\n",
       " <p class=\"subline-level-1 t-14 t-black t-normal search-result__truncate\">\n",
       "         Co-Founder at Seed CX | Zero Hash\n",
       "     </p>,\n",
       " <p class=\"subline-level-1 t-14 t-black t-normal search-result__truncate\">\n",
       "         Managing Director at Proprietary High Frequency Trading Firm\n",
       "     </p>,\n",
       " <p class=\"subline-level-1 t-14 t-black t-normal search-result__truncate\">\n",
       "         Co-Founder at NETenergy\n",
       "     </p>,\n",
       " <p class=\"subline-level-1 t-14 t-black t-normal search-result__truncate\">\n",
       "         Chief Operating Officer and Partner at Trean Group, LLC\n",
       "     </p>,\n",
       " <p class=\"subline-level-1 t-14 t-black t-normal search-result__truncate\">\n",
       "         Investment Officer\n",
       "     </p>,\n",
       " <p class=\"subline-level-1 t-14 t-black t-normal search-result__truncate\">\n",
       "         Strategy &amp; Operations Leader and Advisor\n",
       "     </p>,\n",
       " <p class=\"subline-level-1 t-14 t-black t-normal search-result__truncate\">\n",
       "         Manager at Bain &amp; Company\n",
       "     </p>]"
      ]
     },
     "execution_count": 41,
     "metadata": {},
     "output_type": "execute_result"
    }
   ],
   "source": [
    "contact_job = soup.find_all(\"p\", class_=\"subline-level-1 t-14 t-black t-normal search-result__truncate\")\n",
    "contact_job"
   ]
  },
  {
   "cell_type": "code",
   "execution_count": 42,
   "metadata": {},
   "outputs": [
    {
     "data": {
      "text/plain": [
       "['\\n        CEO & Co-Founder at Equilibria\\n    ',\n",
       " '\\n        Principal at Boston Consulting Group (BCG)\\n    ',\n",
       " '\\n        CEO at Titan Investment Management LLC\\n    ',\n",
       " '\\n        Co-Founder at Seed CX | Zero Hash\\n    ',\n",
       " '\\n        Managing Director at Proprietary High Frequency Trading Firm\\n    ',\n",
       " '\\n        Co-Founder at NETenergy\\n    ',\n",
       " '\\n        Chief Operating Officer and Partner at Trean Group, LLC\\n    ',\n",
       " '\\n        Investment Officer\\n    ',\n",
       " '\\n        Strategy & Operations Leader and Advisor\\n    ',\n",
       " '\\n        Manager at Bain & Company\\n    ']"
      ]
     },
     "execution_count": 42,
     "metadata": {},
     "output_type": "execute_result"
    }
   ],
   "source": [
    "job_list =[]\n",
    "for i in contact_job:\n",
    "    job_list.append(i.text)\n",
    "job_list"
   ]
  },
  {
   "cell_type": "code",
   "execution_count": null,
   "metadata": {},
   "outputs": [],
   "source": [
    "contact_dict = dict(zip(contact_name, contact_job))\n"
   ]
  }
 ],
 "metadata": {
  "kernelspec": {
   "display_name": "Python [conda env:webscrape] *",
   "language": "python",
   "name": "conda-env-webscrape-py"
  },
  "language_info": {
   "codemirror_mode": {
    "name": "ipython",
    "version": 3
   },
   "file_extension": ".py",
   "mimetype": "text/x-python",
   "name": "python",
   "nbconvert_exporter": "python",
   "pygments_lexer": "ipython3",
   "version": "3.6.10"
  }
 },
 "nbformat": 4,
 "nbformat_minor": 4
}
