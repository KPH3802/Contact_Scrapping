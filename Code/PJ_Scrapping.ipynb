{
 "cells": [
  {
   "cell_type": "markdown",
   "metadata": {},
   "source": [
    "# Contact Scrapping"
   ]
  },
  {
   "cell_type": "code",
   "execution_count": 20,
   "metadata": {},
   "outputs": [],
   "source": [
    "from splinter import Browser\n",
    "from bs4 import BeautifulSoup\n",
    "import re\n",
    "import time\n",
    "import requests\n",
    "from selenium import webdriver\n",
    "import time as t"
   ]
  },
  {
   "cell_type": "code",
   "execution_count": 21,
   "metadata": {},
   "outputs": [
    {
     "name": "stdout",
     "output_type": "stream",
     "text": [
      "/usr/local/bin/chromedriver\r\n"
     ]
    }
   ],
   "source": [
    "!which chromedriver"
   ]
  },
  {
   "cell_type": "code",
   "execution_count": 22,
   "metadata": {},
   "outputs": [],
   "source": [
    "executable_path = {'executable_path': '/usr/local/bin/chromedriver'}\n",
    "browser = Browser('chrome', **executable_path, headless=False)"
   ]
  },
  {
   "cell_type": "markdown",
   "metadata": {},
   "source": [
    "## Visit site and Login"
   ]
  },
  {
   "cell_type": "code",
   "execution_count": 23,
   "metadata": {},
   "outputs": [],
   "source": [
    "# Visit the LinkedIn site\n",
    "url = 'https://www.linkedin.com/login'\n",
    "browser.visit(url)"
   ]
  },
  {
   "cell_type": "code",
   "execution_count": 24,
   "metadata": {},
   "outputs": [],
   "source": [
    "html = browser.html\n",
    "soup = BeautifulSoup(html, 'html.parser')"
   ]
  },
  {
   "cell_type": "code",
   "execution_count": 25,
   "metadata": {},
   "outputs": [
    {
     "data": {
      "text/plain": [
       "[<div class=\"form__input--floating\"><input aria-describedby=\"error-for-username\" aria-label=\"Email or Phone\" autofocus=\"\" id=\"username\" name=\"session_key\" required=\"\" type=\"text\" validation=\"email|tel\"/><label aria-hidden=\"true\" class=\"form__label--floating\" for=\"username\">Email or Phone</label><div aria-live=\"assertive\" class=\"form__label--error hidden\" error-for=\"username\" id=\"error-for-username\" role=\"alert\"></div></div>,\n",
       " <div class=\"form__input--floating\"><input aria-describedby=\"error-for-password\" aria-label=\"Password\" id=\"password\" name=\"session_password\" required=\"\" type=\"password\" validation=\"password\"/><label aria-hidden=\"true\" class=\"form__label--floating\" for=\"password\">Password</label><div aria-live=\"assertive\" class=\"form__label--error hidden\" error-for=\"password\" id=\"error-for-password\" role=\"alert\"></div><span class=\"button__password-visibility\" id=\"password-visibility-toggle\" role=\"button\" tabindex=\"0\">Show</span></div>]"
      ]
     },
     "execution_count": 25,
     "metadata": {},
     "output_type": "execute_result"
    }
   ],
   "source": [
    "formfloating = soup.find_all('div', class_='form__input--floating')\n",
    "formfloating"
   ]
  },
  {
   "cell_type": "code",
   "execution_count": 40,
   "metadata": {},
   "outputs": [],
   "source": [
    "with requests.Session() as s:\n",
    "    url = 'https://www.linkedin.com/login'\n",
    "    browser.visit(url)\n",
    "    site = s.get(\"https://www.linkedin.com/home\")\n",
    "    bs_content = soup(site.content, \"html.parser\")\n",
    "    login_data = {\"username\":email,\"password\":password}\n",
    "    s.post(\"https://www.linkedin.com/home\",login_data)\n",
    "    home_page = s.get(\"http://quotes.toscrape.com\")"
   ]
  },
  {
   "cell_type": "code",
   "execution_count": 42,
   "metadata": {},
   "outputs": [
    {
     "name": "stdout",
     "output_type": "stream",
     "text": [
      "<Response [200]>\n"
     ]
    }
   ],
   "source": [
    "email = \"email\"\n",
    "password = \"Password\"\n",
    "\n",
    "client = requests.Session()\n",
    "\n",
    "HOMEPAGE_URL = 'https://www.linkedin.com/login'\n",
    "LOGIN_URL = 'https://www.linkedin.com/uas/login-submit'\n",
    "\n",
    "executable_path = {'executable_path': '/usr/local/bin/chromedriver'}\n",
    "browser = Browser('chrome', **executable_path, headless=False)\n",
    "\n",
    "url = 'https://www.linkedin.com/login'\n",
    "browser.visit(url)\n",
    "\n",
    "html = client.get(url).content\n",
    "t.sleep(5)\n",
    "soup = BeautifulSoup(html, \"html.parser\")\n",
    "csrf = soup.find('input', {'name': 'loginCsrfParam'}).get('value')\n",
    "t.sleep(5)\n",
    "login_information = {\n",
    "    'session_key': email,\n",
    "    'session_password': password,\n",
    "    'loginCsrfParam': csrf,\n",
    "    'trk': 'guest_homepage-basic_sign-in-submit'\n",
    "}\n",
    "\n",
    "result = client.post(LOGIN_URL, data=login_information)\n",
    "# print(csrf)\n",
    "# response = client.get('')\n",
    "print(result)"
   ]
  },
  {
   "cell_type": "code",
   "execution_count": 46,
   "metadata": {},
   "outputs": [],
   "source": [
    "executable_path = {'executable_path': '/usr/local/bin/chromedriver'}\n",
    "browser = Browser('chrome', **executable_path, headless=False)\n",
    "\n",
    "\n",
    "url = 'https://www.linkedin.com/login'\n",
    "browser.visit(url)\n",
    "\n",
    "t.sleep(1)\n",
    "browser.find_by_id('username').fill(email)\n",
    "t.sleep(1)\n",
    "browser.find_by_id('password').fill(password)\n",
    "t.sleep(1)\n",
    "browser.find_by_text('Sign in').click()\n"
   ]
  },
  {
   "cell_type": "code",
   "execution_count": 47,
   "metadata": {},
   "outputs": [],
   "source": [
    "browser.find_by_id('mynetwork-tab-icon').click()"
   ]
  },
  {
   "cell_type": "code",
   "execution_count": 48,
   "metadata": {},
   "outputs": [],
   "source": [
    "browser.find_by_text('Connections').click()"
   ]
  },
  {
   "cell_type": "code",
   "execution_count": null,
   "metadata": {},
   "outputs": [],
   "source": []
  }
 ],
 "metadata": {
  "kernelspec": {
   "display_name": "Python [conda env:webscrape] *",
   "language": "python",
   "name": "conda-env-webscrape-py"
  },
  "language_info": {
   "codemirror_mode": {
    "name": "ipython",
    "version": 3
   },
   "file_extension": ".py",
   "mimetype": "text/x-python",
   "name": "python",
   "nbconvert_exporter": "python",
   "pygments_lexer": "ipython3",
   "version": "3.6.10"
  }
 },
 "nbformat": 4,
 "nbformat_minor": 4
}
