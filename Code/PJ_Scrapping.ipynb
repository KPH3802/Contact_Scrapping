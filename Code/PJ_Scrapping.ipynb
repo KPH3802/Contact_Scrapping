{
 "cells": [
  {
   "cell_type": "markdown",
   "metadata": {},
   "source": [
    "# Contact Scrapping"
   ]
  },
  {
   "cell_type": "code",
   "execution_count": 3,
   "metadata": {},
   "outputs": [],
   "source": [
    "from splinter import Browser\n",
    "from bs4 import BeautifulSoup\n",
    "import re\n",
    "import time\n",
    "import requests\n",
    "from selenium import webdriver\n",
    "import time as t\n",
    "from config import email, password"
   ]
  },
  {
   "cell_type": "code",
   "execution_count": 4,
   "metadata": {},
   "outputs": [],
   "source": [
    "# !which chromedriver"
   ]
  },
  {
   "cell_type": "code",
   "execution_count": 22,
   "metadata": {},
   "outputs": [],
   "source": [
    "# executable_path = {'executable_path': '/usr/local/bin/chromedriver'}\n",
    "# browser = Browser('chrome', **executable_path, headless=False)"
   ]
  },
  {
   "cell_type": "markdown",
   "metadata": {},
   "source": [
    "## Visit site and Login"
   ]
  },
  {
   "cell_type": "code",
   "execution_count": 23,
   "metadata": {},
   "outputs": [],
   "source": [
    "# Visit the LinkedIn site\n",
    "# url = 'https://www.linkedin.com/login'\n",
    "# browser.visit(url)"
   ]
  },
  {
   "cell_type": "code",
   "execution_count": 24,
   "metadata": {},
   "outputs": [],
   "source": [
    "# html = browser.html\n",
    "# soup = BeautifulSoup(html, 'html.parser')"
   ]
  },
  {
   "cell_type": "code",
   "execution_count": 1,
   "metadata": {},
   "outputs": [],
   "source": [
    "# formfloating = soup.find_all('div', class_='form__input--floating')\n",
    "# formfloating"
   ]
  },
  {
   "cell_type": "code",
   "execution_count": 40,
   "metadata": {},
   "outputs": [],
   "source": [
    "# with requests.Session() as s:\n",
    "#     url = 'https://www.linkedin.com/login'\n",
    "#     browser.visit(url)\n",
    "#     site = s.get(\"https://www.linkedin.com/home\")\n",
    "#     bs_content = soup(site.content, \"html.parser\")\n",
    "#     login_data = {\"username\":email,\"password\":password}\n",
    "#     s.post(\"https://www.linkedin.com/home\",login_data)\n",
    "#     home_page = s.get(\"http://quotes.toscrape.com\")"
   ]
  },
  {
   "cell_type": "code",
   "execution_count": 42,
   "metadata": {},
   "outputs": [
    {
     "name": "stdout",
     "output_type": "stream",
     "text": [
      "<Response [200]>\n"
     ]
    }
   ],
   "source": [
    "# email = \"email\"\n",
    "# password = \"Password\"\n",
    "\n",
    "# client = requests.Session()\n",
    "\n",
    "# HOMEPAGE_URL = 'https://www.linkedin.com/login'\n",
    "# LOGIN_URL = 'https://www.linkedin.com/uas/login-submit'\n",
    "\n",
    "# executable_path = {'executable_path': '/usr/local/bin/chromedriver'}\n",
    "# browser = Browser('chrome', **executable_path, headless=False)\n",
    "\n",
    "# url = 'https://www.linkedin.com/login'\n",
    "# browser.visit(url)\n",
    "\n",
    "# html = client.get(url).content\n",
    "# t.sleep(5)\n",
    "# soup = BeautifulSoup(html, \"html.parser\")\n",
    "# csrf = soup.find('input', {'name': 'loginCsrfParam'}).get('value')\n",
    "# t.sleep(5)\n",
    "# login_information = {\n",
    "#     'session_key': email,\n",
    "#     'session_password': password,\n",
    "#     'loginCsrfParam': csrf,\n",
    "#     'trk': 'guest_homepage-basic_sign-in-submit'\n",
    "# }\n",
    "\n",
    "# result = client.post(LOGIN_URL, data=login_information)\n",
    "# # print(csrf)\n",
    "# # response = client.get('')\n",
    "# print(result)"
   ]
  },
  {
   "cell_type": "code",
   "execution_count": 5,
   "metadata": {},
   "outputs": [],
   "source": [
    "executable_path = {'executable_path': '/usr/local/bin/chromedriver'}\n",
    "browser = Browser('chrome', **executable_path, headless=False)\n",
    "\n",
    "\n",
    "url = 'https://www.linkedin.com/login'\n",
    "browser.visit(url)\n",
    "\n",
    "t.sleep(1)\n",
    "browser.find_by_id('username').fill(email)\n",
    "t.sleep(1)\n",
    "browser.find_by_id('password').fill(password)\n",
    "t.sleep(1)\n",
    "browser.find_by_text('Sign in').click()\n",
    "t.sleep(3)\n",
    "browser.find_by_id('mynetwork-tab-icon').click()\n",
    "t.sleep(2)\n",
    "browser.find_by_text('Connections').click()\n",
    "t.sleep(2)\n",
    "browser.find_by_text(\"Search with filters\").click()"
   ]
  },
  {
   "cell_type": "code",
   "execution_count": 71,
   "metadata": {},
   "outputs": [],
   "source": [
    "# browser.find_by_id('mynetwork-tab-icon').click()"
   ]
  },
  {
   "cell_type": "code",
   "execution_count": 72,
   "metadata": {},
   "outputs": [],
   "source": [
    "# browser.find_by_text('Connections').click()"
   ]
  },
  {
   "cell_type": "code",
   "execution_count": 6,
   "metadata": {},
   "outputs": [],
   "source": [
    "# contact = browser.find_by_text('Member’s name')\n",
    "# print(contact)"
   ]
  },
  {
   "cell_type": "code",
   "execution_count": 17,
   "metadata": {},
   "outputs": [],
   "source": [
    "# html = browser.html\n",
    "# soup = BeautifulSoup(html, 'html.parser')"
   ]
  },
  {
   "cell_type": "code",
   "execution_count": 36,
   "metadata": {},
   "outputs": [],
   "source": [
    "# contact = soup.find_all(\"span\", class_=\"mn-connection-card__name t-16 t-black t-bold\")\n",
    "# contact"
   ]
  },
  {
   "cell_type": "code",
   "execution_count": 73,
   "metadata": {},
   "outputs": [],
   "source": [
    "# browser.find_by_text(\"Search with filters\").click()"
   ]
  },
  {
   "cell_type": "code",
   "execution_count": 82,
   "metadata": {},
   "outputs": [],
   "source": [
    "browser.execute_script(\"window.scrollTo(0, -document.body.scrollHeight);\")"
   ]
  },
  {
   "cell_type": "code",
   "execution_count": 83,
   "metadata": {},
   "outputs": [
    {
     "data": {
      "text/plain": [
       "[<span class=\"name actor-name\">Coco Meers</span>,\n",
       " <span class=\"name actor-name\">Ken Blickenstaff CFA</span>,\n",
       " <span class=\"name actor-name\">Annie Hickman, CFA</span>,\n",
       " <span class=\"name actor-name\">Edward Woodford</span>,\n",
       " <span class=\"name actor-name\">Matthew Carinato</span>,\n",
       " <span class=\"name actor-name\">Mike Pintar</span>,\n",
       " <span class=\"name actor-name\">Nilendu Ghosh</span>,\n",
       " <span class=\"name actor-name\">Jonathan Kuether</span>,\n",
       " <span class=\"name actor-name\">Boris Kholyavsky</span>,\n",
       " <span class=\"name actor-name\">Joshua McLin</span>]"
      ]
     },
     "execution_count": 83,
     "metadata": {},
     "output_type": "execute_result"
    }
   ],
   "source": [
    "html = browser.html\n",
    "soup = BeautifulSoup(html, 'html.parser')\n",
    "contact_name = soup.find_all(\"span\", class_=\"name actor-name\")\n",
    "contact_name"
   ]
  },
  {
   "cell_type": "code",
   "execution_count": 76,
   "metadata": {},
   "outputs": [
    {
     "data": {
      "text/plain": [
       "['Coco Meers',\n",
       " 'Ken Blickenstaff CFA',\n",
       " 'Annie Hickman, CFA',\n",
       " 'Edward Woodford',\n",
       " 'Matthew Carinato',\n",
       " 'Mike Pintar',\n",
       " 'Nilendu Ghosh']"
      ]
     },
     "execution_count": 76,
     "metadata": {},
     "output_type": "execute_result"
    }
   ],
   "source": [
    "Name_list = []\n",
    "for i in contact_name:\n",
    "#   print(i.text)\n",
    "    Name_list.append(i.text)\n",
    "Name_list"
   ]
  },
  {
   "cell_type": "code",
   "execution_count": 77,
   "metadata": {},
   "outputs": [
    {
     "data": {
      "text/plain": [
       "[<p class=\"subline-level-1 t-14 t-black t-normal search-result__truncate\">\n",
       "         CEO &amp; Co-Founder at Equilibria\n",
       "     </p>,\n",
       " <p class=\"subline-level-1 t-14 t-black t-normal search-result__truncate\">\n",
       "         CEO at Titan Investment Management LLC\n",
       "     </p>,\n",
       " <p class=\"subline-level-1 t-14 t-black t-normal search-result__truncate\">\n",
       "         Principal at Boston Consulting Group (BCG)\n",
       "     </p>,\n",
       " <p class=\"subline-level-1 t-14 t-black t-normal search-result__truncate\">\n",
       "         Co-Founder at Seed CX | Zero Hash\n",
       "     </p>,\n",
       " <p class=\"subline-level-1 t-14 t-black t-normal search-result__truncate\">\n",
       "         Chief Operating Officer and Partner at Trean Group, LLC\n",
       "     </p>,\n",
       " <p class=\"subline-level-1 t-14 t-black t-normal search-result__truncate\">\n",
       "         Co-Founder at NETenergy\n",
       "     </p>,\n",
       " <p class=\"subline-level-1 t-14 t-black t-normal search-result__truncate\">\n",
       "         Managing Director at Proprietary High Frequency Trading Firm\n",
       "     </p>]"
      ]
     },
     "execution_count": 77,
     "metadata": {},
     "output_type": "execute_result"
    }
   ],
   "source": [
    "contact_job = soup.find_all(\"p\", class_=\"subline-level-1 t-14 t-black t-normal search-result__truncate\")\n",
    "contact_job"
   ]
  },
  {
   "cell_type": "code",
   "execution_count": 78,
   "metadata": {},
   "outputs": [
    {
     "data": {
      "text/plain": [
       "['\\n        CEO & Co-Founder at Equilibria\\n    ',\n",
       " '\\n        CEO at Titan Investment Management LLC\\n    ',\n",
       " '\\n        Principal at Boston Consulting Group (BCG)\\n    ',\n",
       " '\\n        Co-Founder at Seed CX | Zero Hash\\n    ',\n",
       " '\\n        Chief Operating Officer and Partner at Trean Group, LLC\\n    ',\n",
       " '\\n        Co-Founder at NETenergy\\n    ',\n",
       " '\\n        Managing Director at Proprietary High Frequency Trading Firm\\n    ']"
      ]
     },
     "execution_count": 78,
     "metadata": {},
     "output_type": "execute_result"
    }
   ],
   "source": [
    "job_list =[]\n",
    "for i in contact_job:\n",
    "#     print(i)\n",
    "    job_list.append(i.text)\n",
    "job_list"
   ]
  },
  {
   "cell_type": "code",
   "execution_count": 79,
   "metadata": {},
   "outputs": [
    {
     "data": {
      "text/plain": [
       "7"
      ]
     },
     "execution_count": 79,
     "metadata": {},
     "output_type": "execute_result"
    }
   ],
   "source": [
    "len(job_list)"
   ]
  },
  {
   "cell_type": "code",
   "execution_count": 80,
   "metadata": {},
   "outputs": [
    {
     "data": {
      "text/plain": [
       "['CEO & Co-Founder at Equilibria',\n",
       " 'CEO at Titan Investment Management LLC',\n",
       " 'Principal at Boston Consulting Group (BCG)',\n",
       " 'Co-Founder at Seed CX | Zero Hash',\n",
       " 'Chief Operating Officer and Partner at Trean Group, LLC',\n",
       " 'Co-Founder at NETenergy',\n",
       " 'Managing Director at Proprietary High Frequency Trading Firm']"
      ]
     },
     "execution_count": 80,
     "metadata": {},
     "output_type": "execute_result"
    }
   ],
   "source": [
    "new_job_list=[]\n",
    "for i in job_list:\n",
    "    new_i = i.strip()\n",
    "#     print(i)\n",
    "    new_job_list.append(new_i)\n",
    "new_job_list"
   ]
  },
  {
   "cell_type": "code",
   "execution_count": 81,
   "metadata": {},
   "outputs": [
    {
     "data": {
      "text/plain": [
       "{'Coco Meers': 'CEO & Co-Founder at Equilibria',\n",
       " 'Ken Blickenstaff CFA': 'CEO at Titan Investment Management LLC',\n",
       " 'Annie Hickman, CFA': 'Principal at Boston Consulting Group (BCG)',\n",
       " 'Edward Woodford': 'Co-Founder at Seed CX | Zero Hash',\n",
       " 'Matthew Carinato': 'Chief Operating Officer and Partner at Trean Group, LLC',\n",
       " 'Mike Pintar': 'Co-Founder at NETenergy',\n",
       " 'Nilendu Ghosh': 'Managing Director at Proprietary High Frequency Trading Firm'}"
      ]
     },
     "execution_count": 81,
     "metadata": {},
     "output_type": "execute_result"
    }
   ],
   "source": [
    "contact_dict = dict(zip(Name_list, new_job_list))\n",
    "contact_dict"
   ]
  },
  {
   "cell_type": "code",
   "execution_count": null,
   "metadata": {},
   "outputs": [],
   "source": []
  }
 ],
 "metadata": {
  "kernelspec": {
   "display_name": "Python [conda env:webscrape] *",
   "language": "python",
   "name": "conda-env-webscrape-py"
  },
  "language_info": {
   "codemirror_mode": {
    "name": "ipython",
    "version": 3
   },
   "file_extension": ".py",
   "mimetype": "text/x-python",
   "name": "python",
   "nbconvert_exporter": "python",
   "pygments_lexer": "ipython3",
   "version": "3.6.10"
  }
 },
 "nbformat": 4,
 "nbformat_minor": 4
}
