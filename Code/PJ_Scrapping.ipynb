{
 "cells": [
  {
   "cell_type": "markdown",
   "metadata": {},
   "source": [
    "# Contact Scrapping"
   ]
  },
  {
   "cell_type": "code",
   "execution_count": 13,
   "metadata": {},
   "outputs": [],
   "source": [
    "from splinter import Browser\n",
    "from bs4 import BeautifulSoup\n",
    "import re\n",
    "import time\n",
    "import requests\n",
    "from selenium import webdriver\n",
    "import time as t\n",
    "from config import email, password, accountSID, authToken\n",
    "from twilio.rest import Client"
   ]
  },
  {
   "cell_type": "code",
   "execution_count": 14,
   "metadata": {},
   "outputs": [
    {
     "name": "stdout",
     "output_type": "stream",
     "text": [
      "/usr/local/bin/chromedriver\r\n"
     ]
    }
   ],
   "source": [
    "!which chromedriver"
   ]
  },
  {
   "cell_type": "code",
   "execution_count": 22,
   "metadata": {},
   "outputs": [],
   "source": [
    "# executable_path = {'executable_path': '/usr/local/bin/chromedriver'}\n",
    "# browser = Browser('chrome', **executable_path, headless=False)"
   ]
  },
  {
   "cell_type": "markdown",
   "metadata": {},
   "source": [
    "## Visit site and Login"
   ]
  },
  {
   "cell_type": "code",
   "execution_count": 23,
   "metadata": {},
   "outputs": [],
   "source": [
    "# Visit the LinkedIn site\n",
    "# url = 'https://www.linkedin.com/login'\n",
    "# browser.visit(url)"
   ]
  },
  {
   "cell_type": "code",
   "execution_count": 24,
   "metadata": {},
   "outputs": [],
   "source": [
    "# html = browser.html\n",
    "# soup = BeautifulSoup(html, 'html.parser')"
   ]
  },
  {
   "cell_type": "code",
   "execution_count": 1,
   "metadata": {},
   "outputs": [],
   "source": [
    "# formfloating = soup.find_all('div', class_='form__input--floating')\n",
    "# formfloating"
   ]
  },
  {
   "cell_type": "code",
   "execution_count": 40,
   "metadata": {},
   "outputs": [],
   "source": [
    "# with requests.Session() as s:\n",
    "#     url = 'https://www.linkedin.com/login'\n",
    "#     browser.visit(url)\n",
    "#     site = s.get(\"https://www.linkedin.com/home\")\n",
    "#     bs_content = soup(site.content, \"html.parser\")\n",
    "#     login_data = {\"username\":email,\"password\":password}\n",
    "#     s.post(\"https://www.linkedin.com/home\",login_data)\n",
    "#     home_page = s.get(\"http://quotes.toscrape.com\")"
   ]
  },
  {
   "cell_type": "code",
   "execution_count": 42,
   "metadata": {},
   "outputs": [
    {
     "name": "stdout",
     "output_type": "stream",
     "text": [
      "<Response [200]>\n"
     ]
    }
   ],
   "source": [
    "# email = \"email\"\n",
    "# password = \"Password\"\n",
    "\n",
    "# client = requests.Session()\n",
    "\n",
    "# HOMEPAGE_URL = 'https://www.linkedin.com/login'\n",
    "# LOGIN_URL = 'https://www.linkedin.com/uas/login-submit'\n",
    "\n",
    "# executable_path = {'executable_path': '/usr/local/bin/chromedriver'}\n",
    "# browser = Browser('chrome', **executable_path, headless=False)\n",
    "\n",
    "# url = 'https://www.linkedin.com/login'\n",
    "# browser.visit(url)\n",
    "\n",
    "# html = client.get(url).content\n",
    "# t.sleep(5)\n",
    "# soup = BeautifulSoup(html, \"html.parser\")\n",
    "# csrf = soup.find('input', {'name': 'loginCsrfParam'}).get('value')\n",
    "# t.sleep(5)\n",
    "# login_information = {\n",
    "#     'session_key': email,\n",
    "#     'session_password': password,\n",
    "#     'loginCsrfParam': csrf,\n",
    "#     'trk': 'guest_homepage-basic_sign-in-submit'\n",
    "# }\n",
    "\n",
    "# result = client.post(LOGIN_URL, data=login_information)\n",
    "# # print(csrf)\n",
    "# # response = client.get('')\n",
    "# print(result)"
   ]
  },
  {
   "cell_type": "code",
   "execution_count": 18,
   "metadata": {},
   "outputs": [
    {
     "ename": "ElementNotInteractableException",
     "evalue": "Message: element not interactable\n  (Session info: chrome=85.0.4183.121)\n",
     "output_type": "error",
     "traceback": [
      "\u001b[0;31m---------------------------------------------------------------------------\u001b[0m",
      "\u001b[0;31mElementNotInteractableException\u001b[0m           Traceback (most recent call last)",
      "\u001b[0;32m<ipython-input-18-ff52faa27db8>\u001b[0m in \u001b[0;36m<module>\u001b[0;34m\u001b[0m\n\u001b[1;32m     13\u001b[0m \u001b[0mbrowser\u001b[0m\u001b[0;34m.\u001b[0m\u001b[0mfind_by_text\u001b[0m\u001b[0;34m(\u001b[0m\u001b[0;34m'Sign in'\u001b[0m\u001b[0;34m)\u001b[0m\u001b[0;34m.\u001b[0m\u001b[0mclick\u001b[0m\u001b[0;34m(\u001b[0m\u001b[0;34m)\u001b[0m\u001b[0;34m\u001b[0m\u001b[0;34m\u001b[0m\u001b[0m\n\u001b[1;32m     14\u001b[0m \u001b[0mt\u001b[0m\u001b[0;34m.\u001b[0m\u001b[0msleep\u001b[0m\u001b[0;34m(\u001b[0m\u001b[0;36m3\u001b[0m\u001b[0;34m)\u001b[0m\u001b[0;34m\u001b[0m\u001b[0;34m\u001b[0m\u001b[0m\n\u001b[0;32m---> 15\u001b[0;31m \u001b[0mbrowser\u001b[0m\u001b[0;34m.\u001b[0m\u001b[0mfind_by_id\u001b[0m\u001b[0;34m(\u001b[0m\u001b[0;34m'mynetwork-tab-icon'\u001b[0m\u001b[0;34m)\u001b[0m\u001b[0;34m.\u001b[0m\u001b[0mclick\u001b[0m\u001b[0;34m(\u001b[0m\u001b[0;34m)\u001b[0m\u001b[0;34m\u001b[0m\u001b[0;34m\u001b[0m\u001b[0m\n\u001b[0m\u001b[1;32m     16\u001b[0m \u001b[0mt\u001b[0m\u001b[0;34m.\u001b[0m\u001b[0msleep\u001b[0m\u001b[0;34m(\u001b[0m\u001b[0;36m2\u001b[0m\u001b[0;34m)\u001b[0m\u001b[0;34m\u001b[0m\u001b[0;34m\u001b[0m\u001b[0m\n\u001b[1;32m     17\u001b[0m \u001b[0mbrowser\u001b[0m\u001b[0;34m.\u001b[0m\u001b[0mfind_by_text\u001b[0m\u001b[0;34m(\u001b[0m\u001b[0;34m'Connections'\u001b[0m\u001b[0;34m)\u001b[0m\u001b[0;34m.\u001b[0m\u001b[0mclick\u001b[0m\u001b[0;34m(\u001b[0m\u001b[0;34m)\u001b[0m\u001b[0;34m\u001b[0m\u001b[0;34m\u001b[0m\u001b[0m\n",
      "\u001b[0;32m~/opt/anaconda3/envs/PJ_Project/lib/python3.7/site-packages/splinter/driver/webdriver/__init__.py\u001b[0m in \u001b[0;36mclick\u001b[0;34m(self)\u001b[0m\n\u001b[1;32m    817\u001b[0m                 \u001b[0merror\u001b[0m \u001b[0;34m=\u001b[0m \u001b[0me\u001b[0m\u001b[0;34m\u001b[0m\u001b[0;34m\u001b[0m\u001b[0m\n\u001b[1;32m    818\u001b[0m \u001b[0;34m\u001b[0m\u001b[0m\n\u001b[0;32m--> 819\u001b[0;31m         \u001b[0;32mraise\u001b[0m \u001b[0merror\u001b[0m\u001b[0;34m\u001b[0m\u001b[0;34m\u001b[0m\u001b[0m\n\u001b[0m\u001b[1;32m    820\u001b[0m \u001b[0;34m\u001b[0m\u001b[0m\n\u001b[1;32m    821\u001b[0m     \u001b[0;32mdef\u001b[0m \u001b[0mcheck\u001b[0m\u001b[0;34m(\u001b[0m\u001b[0mself\u001b[0m\u001b[0;34m)\u001b[0m\u001b[0;34m:\u001b[0m\u001b[0;34m\u001b[0m\u001b[0;34m\u001b[0m\u001b[0m\n",
      "\u001b[0;32m~/opt/anaconda3/envs/PJ_Project/lib/python3.7/site-packages/splinter/driver/webdriver/__init__.py\u001b[0m in \u001b[0;36mclick\u001b[0;34m(self)\u001b[0m\n\u001b[1;32m    810\u001b[0m         \u001b[0;32mwhile\u001b[0m \u001b[0mtime\u001b[0m\u001b[0;34m.\u001b[0m\u001b[0mtime\u001b[0m\u001b[0;34m(\u001b[0m\u001b[0;34m)\u001b[0m \u001b[0;34m<\u001b[0m \u001b[0mend_time\u001b[0m\u001b[0;34m:\u001b[0m\u001b[0;34m\u001b[0m\u001b[0;34m\u001b[0m\u001b[0m\n\u001b[1;32m    811\u001b[0m             \u001b[0;32mtry\u001b[0m\u001b[0;34m:\u001b[0m\u001b[0;34m\u001b[0m\u001b[0;34m\u001b[0m\u001b[0m\n\u001b[0;32m--> 812\u001b[0;31m                 \u001b[0;32mreturn\u001b[0m \u001b[0mself\u001b[0m\u001b[0;34m.\u001b[0m\u001b[0m_element\u001b[0m\u001b[0;34m.\u001b[0m\u001b[0mclick\u001b[0m\u001b[0;34m(\u001b[0m\u001b[0;34m)\u001b[0m\u001b[0;34m\u001b[0m\u001b[0;34m\u001b[0m\u001b[0m\n\u001b[0m\u001b[1;32m    813\u001b[0m             except(\n\u001b[1;32m    814\u001b[0m                 \u001b[0mElementClickInterceptedException\u001b[0m\u001b[0;34m,\u001b[0m\u001b[0;34m\u001b[0m\u001b[0;34m\u001b[0m\u001b[0m\n",
      "\u001b[0;32m~/opt/anaconda3/envs/PJ_Project/lib/python3.7/site-packages/selenium/webdriver/remote/webelement.py\u001b[0m in \u001b[0;36mclick\u001b[0;34m(self)\u001b[0m\n\u001b[1;32m     78\u001b[0m     \u001b[0;32mdef\u001b[0m \u001b[0mclick\u001b[0m\u001b[0;34m(\u001b[0m\u001b[0mself\u001b[0m\u001b[0;34m)\u001b[0m\u001b[0;34m:\u001b[0m\u001b[0;34m\u001b[0m\u001b[0;34m\u001b[0m\u001b[0m\n\u001b[1;32m     79\u001b[0m         \u001b[0;34m\"\"\"Clicks the element.\"\"\"\u001b[0m\u001b[0;34m\u001b[0m\u001b[0;34m\u001b[0m\u001b[0m\n\u001b[0;32m---> 80\u001b[0;31m         \u001b[0mself\u001b[0m\u001b[0;34m.\u001b[0m\u001b[0m_execute\u001b[0m\u001b[0;34m(\u001b[0m\u001b[0mCommand\u001b[0m\u001b[0;34m.\u001b[0m\u001b[0mCLICK_ELEMENT\u001b[0m\u001b[0;34m)\u001b[0m\u001b[0;34m\u001b[0m\u001b[0;34m\u001b[0m\u001b[0m\n\u001b[0m\u001b[1;32m     81\u001b[0m \u001b[0;34m\u001b[0m\u001b[0m\n\u001b[1;32m     82\u001b[0m     \u001b[0;32mdef\u001b[0m \u001b[0msubmit\u001b[0m\u001b[0;34m(\u001b[0m\u001b[0mself\u001b[0m\u001b[0;34m)\u001b[0m\u001b[0;34m:\u001b[0m\u001b[0;34m\u001b[0m\u001b[0;34m\u001b[0m\u001b[0m\n",
      "\u001b[0;32m~/opt/anaconda3/envs/PJ_Project/lib/python3.7/site-packages/selenium/webdriver/remote/webelement.py\u001b[0m in \u001b[0;36m_execute\u001b[0;34m(self, command, params)\u001b[0m\n\u001b[1;32m    631\u001b[0m             \u001b[0mparams\u001b[0m \u001b[0;34m=\u001b[0m \u001b[0;34m{\u001b[0m\u001b[0;34m}\u001b[0m\u001b[0;34m\u001b[0m\u001b[0;34m\u001b[0m\u001b[0m\n\u001b[1;32m    632\u001b[0m         \u001b[0mparams\u001b[0m\u001b[0;34m[\u001b[0m\u001b[0;34m'id'\u001b[0m\u001b[0;34m]\u001b[0m \u001b[0;34m=\u001b[0m \u001b[0mself\u001b[0m\u001b[0;34m.\u001b[0m\u001b[0m_id\u001b[0m\u001b[0;34m\u001b[0m\u001b[0;34m\u001b[0m\u001b[0m\n\u001b[0;32m--> 633\u001b[0;31m         \u001b[0;32mreturn\u001b[0m \u001b[0mself\u001b[0m\u001b[0;34m.\u001b[0m\u001b[0m_parent\u001b[0m\u001b[0;34m.\u001b[0m\u001b[0mexecute\u001b[0m\u001b[0;34m(\u001b[0m\u001b[0mcommand\u001b[0m\u001b[0;34m,\u001b[0m \u001b[0mparams\u001b[0m\u001b[0;34m)\u001b[0m\u001b[0;34m\u001b[0m\u001b[0;34m\u001b[0m\u001b[0m\n\u001b[0m\u001b[1;32m    634\u001b[0m \u001b[0;34m\u001b[0m\u001b[0m\n\u001b[1;32m    635\u001b[0m     \u001b[0;32mdef\u001b[0m \u001b[0mfind_element\u001b[0m\u001b[0;34m(\u001b[0m\u001b[0mself\u001b[0m\u001b[0;34m,\u001b[0m \u001b[0mby\u001b[0m\u001b[0;34m=\u001b[0m\u001b[0mBy\u001b[0m\u001b[0;34m.\u001b[0m\u001b[0mID\u001b[0m\u001b[0;34m,\u001b[0m \u001b[0mvalue\u001b[0m\u001b[0;34m=\u001b[0m\u001b[0;32mNone\u001b[0m\u001b[0;34m)\u001b[0m\u001b[0;34m:\u001b[0m\u001b[0;34m\u001b[0m\u001b[0;34m\u001b[0m\u001b[0m\n",
      "\u001b[0;32m~/opt/anaconda3/envs/PJ_Project/lib/python3.7/site-packages/selenium/webdriver/remote/webdriver.py\u001b[0m in \u001b[0;36mexecute\u001b[0;34m(self, driver_command, params)\u001b[0m\n\u001b[1;32m    319\u001b[0m         \u001b[0mresponse\u001b[0m \u001b[0;34m=\u001b[0m \u001b[0mself\u001b[0m\u001b[0;34m.\u001b[0m\u001b[0mcommand_executor\u001b[0m\u001b[0;34m.\u001b[0m\u001b[0mexecute\u001b[0m\u001b[0;34m(\u001b[0m\u001b[0mdriver_command\u001b[0m\u001b[0;34m,\u001b[0m \u001b[0mparams\u001b[0m\u001b[0;34m)\u001b[0m\u001b[0;34m\u001b[0m\u001b[0;34m\u001b[0m\u001b[0m\n\u001b[1;32m    320\u001b[0m         \u001b[0;32mif\u001b[0m \u001b[0mresponse\u001b[0m\u001b[0;34m:\u001b[0m\u001b[0;34m\u001b[0m\u001b[0;34m\u001b[0m\u001b[0m\n\u001b[0;32m--> 321\u001b[0;31m             \u001b[0mself\u001b[0m\u001b[0;34m.\u001b[0m\u001b[0merror_handler\u001b[0m\u001b[0;34m.\u001b[0m\u001b[0mcheck_response\u001b[0m\u001b[0;34m(\u001b[0m\u001b[0mresponse\u001b[0m\u001b[0;34m)\u001b[0m\u001b[0;34m\u001b[0m\u001b[0;34m\u001b[0m\u001b[0m\n\u001b[0m\u001b[1;32m    322\u001b[0m             response['value'] = self._unwrap_value(\n\u001b[1;32m    323\u001b[0m                 response.get('value', None))\n",
      "\u001b[0;32m~/opt/anaconda3/envs/PJ_Project/lib/python3.7/site-packages/selenium/webdriver/remote/errorhandler.py\u001b[0m in \u001b[0;36mcheck_response\u001b[0;34m(self, response)\u001b[0m\n\u001b[1;32m    240\u001b[0m                 \u001b[0malert_text\u001b[0m \u001b[0;34m=\u001b[0m \u001b[0mvalue\u001b[0m\u001b[0;34m[\u001b[0m\u001b[0;34m'alert'\u001b[0m\u001b[0;34m]\u001b[0m\u001b[0;34m.\u001b[0m\u001b[0mget\u001b[0m\u001b[0;34m(\u001b[0m\u001b[0;34m'text'\u001b[0m\u001b[0;34m)\u001b[0m\u001b[0;34m\u001b[0m\u001b[0;34m\u001b[0m\u001b[0m\n\u001b[1;32m    241\u001b[0m             \u001b[0;32mraise\u001b[0m \u001b[0mexception_class\u001b[0m\u001b[0;34m(\u001b[0m\u001b[0mmessage\u001b[0m\u001b[0;34m,\u001b[0m \u001b[0mscreen\u001b[0m\u001b[0;34m,\u001b[0m \u001b[0mstacktrace\u001b[0m\u001b[0;34m,\u001b[0m \u001b[0malert_text\u001b[0m\u001b[0;34m)\u001b[0m\u001b[0;34m\u001b[0m\u001b[0;34m\u001b[0m\u001b[0m\n\u001b[0;32m--> 242\u001b[0;31m         \u001b[0;32mraise\u001b[0m \u001b[0mexception_class\u001b[0m\u001b[0;34m(\u001b[0m\u001b[0mmessage\u001b[0m\u001b[0;34m,\u001b[0m \u001b[0mscreen\u001b[0m\u001b[0;34m,\u001b[0m \u001b[0mstacktrace\u001b[0m\u001b[0;34m)\u001b[0m\u001b[0;34m\u001b[0m\u001b[0;34m\u001b[0m\u001b[0m\n\u001b[0m\u001b[1;32m    243\u001b[0m \u001b[0;34m\u001b[0m\u001b[0m\n\u001b[1;32m    244\u001b[0m     \u001b[0;32mdef\u001b[0m \u001b[0m_value_or_default\u001b[0m\u001b[0;34m(\u001b[0m\u001b[0mself\u001b[0m\u001b[0;34m,\u001b[0m \u001b[0mobj\u001b[0m\u001b[0;34m,\u001b[0m \u001b[0mkey\u001b[0m\u001b[0;34m,\u001b[0m \u001b[0mdefault\u001b[0m\u001b[0;34m)\u001b[0m\u001b[0;34m:\u001b[0m\u001b[0;34m\u001b[0m\u001b[0;34m\u001b[0m\u001b[0m\n",
      "\u001b[0;31mElementNotInteractableException\u001b[0m: Message: element not interactable\n  (Session info: chrome=85.0.4183.121)\n"
     ]
    }
   ],
   "source": [
    "executable_path = {'executable_path': '/usr/local/bin/chromedriver'}\n",
    "browser = Browser('chrome', **executable_path, headless=False)\n",
    "\n",
    "\n",
    "url = 'https://www.linkedin.com/login'\n",
    "browser.visit(url)\n",
    "\n",
    "t.sleep(1)\n",
    "browser.find_by_id('username').fill(email)\n",
    "t.sleep(1)\n",
    "browser.find_by_id('password').fill(password)\n",
    "t.sleep(1)\n",
    "browser.find_by_text('Sign in').click()\n",
    "t.sleep(3)\n",
    "browser.find_by_id('mynetwork-tab-icon').click()\n",
    "t.sleep(2)\n",
    "browser.find_by_text('Connections').click()\n",
    "# t.sleep(2)\n",
    "# browser.find_by_text(\"Search with filters\").click()"
   ]
  },
  {
   "cell_type": "code",
   "execution_count": 71,
   "metadata": {},
   "outputs": [],
   "source": [
    "# browser.find_by_id('mynetwork-tab-icon').click()"
   ]
  },
  {
   "cell_type": "code",
   "execution_count": 72,
   "metadata": {},
   "outputs": [],
   "source": [
    "# browser.find_by_text('Connections').click()"
   ]
  },
  {
   "cell_type": "code",
   "execution_count": 6,
   "metadata": {},
   "outputs": [],
   "source": [
    "# contact = browser.find_by_text('Member’s name')\n",
    "# print(contact)"
   ]
  },
  {
   "cell_type": "code",
   "execution_count": 17,
   "metadata": {},
   "outputs": [],
   "source": [
    "# html = browser.html\n",
    "# soup = BeautifulSoup(html, 'html.parser')"
   ]
  },
  {
   "cell_type": "code",
   "execution_count": 36,
   "metadata": {},
   "outputs": [],
   "source": [
    "# contact = soup.find_all(\"span\", class_=\"mn-connection-card__name t-16 t-black t-bold\")\n",
    "# contact"
   ]
  },
  {
   "cell_type": "code",
   "execution_count": 73,
   "metadata": {},
   "outputs": [],
   "source": [
    "# browser.find_by_text(\"Search with filters\").click()"
   ]
  },
  {
   "cell_type": "code",
   "execution_count": 21,
   "metadata": {},
   "outputs": [],
   "source": [
    "browser.execute_script(\"window.scrollTo(0, -document.body.scrollHeight);\")"
   ]
  },
  {
   "cell_type": "code",
   "execution_count": 5,
   "metadata": {},
   "outputs": [
    {
     "data": {
      "text/plain": [
       "[<span class=\"mn-connection-card__name t-16 t-black t-bold\">\n",
       "       Bonnie Peters\n",
       "     </span>,\n",
       " <span class=\"mn-connection-card__name t-16 t-black t-bold\">\n",
       "       Roman Brito\n",
       "     </span>,\n",
       " <span class=\"mn-connection-card__name t-16 t-black t-bold\">\n",
       "       Brenna Kalish\n",
       "     </span>,\n",
       " <span class=\"mn-connection-card__name t-16 t-black t-bold\">\n",
       "       Louise Scott\n",
       "     </span>,\n",
       " <span class=\"mn-connection-card__name t-16 t-black t-bold\">\n",
       "       Sara Ho\n",
       "     </span>,\n",
       " <span class=\"mn-connection-card__name t-16 t-black t-bold\">\n",
       "       Lester Crockett\n",
       "     </span>,\n",
       " <span class=\"mn-connection-card__name t-16 t-black t-bold\">\n",
       "       Mark Bui\n",
       "     </span>,\n",
       " <span class=\"mn-connection-card__name t-16 t-black t-bold\">\n",
       "       Jaswinder Singh\n",
       "     </span>,\n",
       " <span class=\"mn-connection-card__name t-16 t-black t-bold\">\n",
       "       Ryan Ashcraft\n",
       "     </span>,\n",
       " <span class=\"mn-connection-card__name t-16 t-black t-bold\">\n",
       "       Andrew Bautista\n",
       "     </span>,\n",
       " <span class=\"mn-connection-card__name t-16 t-black t-bold\">\n",
       "       Hisham Elhassan\n",
       "     </span>,\n",
       " <span class=\"mn-connection-card__name t-16 t-black t-bold\">\n",
       "       Lavina Tang\n",
       "     </span>,\n",
       " <span class=\"mn-connection-card__name t-16 t-black t-bold\">\n",
       "       Hephzibah Rodrigues\n",
       "     </span>,\n",
       " <span class=\"mn-connection-card__name t-16 t-black t-bold\">\n",
       "       Seata Shyon\n",
       "     </span>,\n",
       " <span class=\"mn-connection-card__name t-16 t-black t-bold\">\n",
       "       Richard Brown\n",
       "     </span>,\n",
       " <span class=\"mn-connection-card__name t-16 t-black t-bold\">\n",
       "       Taylor Brooks\n",
       "     </span>,\n",
       " <span class=\"mn-connection-card__name t-16 t-black t-bold\">\n",
       "       Peter Rogus\n",
       "     </span>,\n",
       " <span class=\"mn-connection-card__name t-16 t-black t-bold\">\n",
       "       Meili Liang\n",
       "     </span>,\n",
       " <span class=\"mn-connection-card__name t-16 t-black t-bold\">\n",
       "       Emesha Jackson\n",
       "     </span>,\n",
       " <span class=\"mn-connection-card__name t-16 t-black t-bold\">\n",
       "       Michael Tanner\n",
       "     </span>,\n",
       " <span class=\"mn-connection-card__name t-16 t-black t-bold\">\n",
       "       Carlos Soriano\n",
       "     </span>,\n",
       " <span class=\"mn-connection-card__name t-16 t-black t-bold\">\n",
       "       Swati Dontamsetti\n",
       "     </span>,\n",
       " <span class=\"mn-connection-card__name t-16 t-black t-bold\">\n",
       "       Magda Sowierszenko\n",
       "     </span>,\n",
       " <span class=\"mn-connection-card__name t-16 t-black t-bold\">\n",
       "       Lina Hayek\n",
       "     </span>,\n",
       " <span class=\"mn-connection-card__name t-16 t-black t-bold\">\n",
       "       Charles Givre\n",
       "     </span>,\n",
       " <span class=\"mn-connection-card__name t-16 t-black t-bold\">\n",
       "       Thi Nguyen\n",
       "     </span>,\n",
       " <span class=\"mn-connection-card__name t-16 t-black t-bold\">\n",
       "       Zohar Einy\n",
       "     </span>,\n",
       " <span class=\"mn-connection-card__name t-16 t-black t-bold\">\n",
       "       Reeka Maharaj\n",
       "     </span>,\n",
       " <span class=\"mn-connection-card__name t-16 t-black t-bold\">\n",
       "       Melissa Wright, MBA\n",
       "     </span>,\n",
       " <span class=\"mn-connection-card__name t-16 t-black t-bold\">\n",
       "       Amber Vaughan, MSM\n",
       "     </span>,\n",
       " <span class=\"mn-connection-card__name t-16 t-black t-bold\">\n",
       "       Jonah Karew\n",
       "     </span>,\n",
       " <span class=\"mn-connection-card__name t-16 t-black t-bold\">\n",
       "       Rashida Ali\n",
       "     </span>,\n",
       " <span class=\"mn-connection-card__name t-16 t-black t-bold\">\n",
       "       Irina Kudosova\n",
       "     </span>,\n",
       " <span class=\"mn-connection-card__name t-16 t-black t-bold\">\n",
       "       Anais Jackie Dotis\n",
       "     </span>,\n",
       " <span class=\"mn-connection-card__name t-16 t-black t-bold\">\n",
       "       Armin Zardkoohi\n",
       "     </span>,\n",
       " <span class=\"mn-connection-card__name t-16 t-black t-bold\">\n",
       "       John Slazas\n",
       "     </span>,\n",
       " <span class=\"mn-connection-card__name t-16 t-black t-bold\">\n",
       "       Joseph Stec\n",
       "     </span>,\n",
       " <span class=\"mn-connection-card__name t-16 t-black t-bold\">\n",
       "       Jim Gwinner\n",
       "     </span>,\n",
       " <span class=\"mn-connection-card__name t-16 t-black t-bold\">\n",
       "       Ashwin Avasarala\n",
       "     </span>,\n",
       " <span class=\"mn-connection-card__name t-16 t-black t-bold\">\n",
       "       Steffi Wellington\n",
       "     </span>]"
      ]
     },
     "execution_count": 5,
     "metadata": {},
     "output_type": "execute_result"
    }
   ],
   "source": [
    "html = browser.html\n",
    "soup = BeautifulSoup(html, 'html.parser')\n",
    "contact_name = soup.find_all(\"span\", class_=\"mn-connection-card__name t-16 t-black t-bold\")\n",
    "contact_name"
   ]
  },
  {
   "cell_type": "code",
   "execution_count": 6,
   "metadata": {},
   "outputs": [
    {
     "data": {
      "text/plain": [
       "['\\n      Bonnie Peters\\n    ',\n",
       " '\\n      Roman Brito\\n    ',\n",
       " '\\n      Brenna Kalish\\n    ',\n",
       " '\\n      Louise Scott\\n    ',\n",
       " '\\n      Sara Ho\\n    ',\n",
       " '\\n      Lester Crockett\\n    ',\n",
       " '\\n      Mark Bui\\n    ',\n",
       " '\\n      Jaswinder Singh\\n    ',\n",
       " '\\n      Ryan Ashcraft\\n    ',\n",
       " '\\n      Andrew Bautista\\n    ',\n",
       " '\\n      Hisham Elhassan\\n    ',\n",
       " '\\n      Lavina Tang\\n    ',\n",
       " '\\n      Hephzibah Rodrigues\\n    ',\n",
       " '\\n      Seata Shyon\\n    ',\n",
       " '\\n      Richard Brown\\n    ',\n",
       " '\\n      Taylor Brooks\\n    ',\n",
       " '\\n      Peter Rogus\\n    ',\n",
       " '\\n      Meili Liang\\n    ',\n",
       " '\\n      Emesha Jackson\\n    ',\n",
       " '\\n      Michael Tanner\\n    ',\n",
       " '\\n      Carlos Soriano\\n    ',\n",
       " '\\n      Swati Dontamsetti\\n    ',\n",
       " '\\n      Magda Sowierszenko\\n    ',\n",
       " '\\n      Lina Hayek\\n    ',\n",
       " '\\n      Charles Givre\\n    ',\n",
       " '\\n      Thi Nguyen\\n    ',\n",
       " '\\n      Zohar Einy\\n    ',\n",
       " '\\n      Reeka Maharaj\\n    ',\n",
       " '\\n      Melissa Wright, MBA\\n    ',\n",
       " '\\n      Amber Vaughan, MSM\\n    ',\n",
       " '\\n      Jonah Karew\\n    ',\n",
       " '\\n      Rashida Ali\\n    ',\n",
       " '\\n      Irina Kudosova\\n    ',\n",
       " '\\n      Anais Jackie Dotis\\n    ',\n",
       " '\\n      Armin Zardkoohi\\n    ',\n",
       " '\\n      John Slazas\\n    ',\n",
       " '\\n      Joseph Stec\\n    ',\n",
       " '\\n      Jim Gwinner\\n    ',\n",
       " '\\n      Ashwin Avasarala\\n    ',\n",
       " '\\n      Steffi Wellington\\n    ']"
      ]
     },
     "execution_count": 6,
     "metadata": {},
     "output_type": "execute_result"
    }
   ],
   "source": [
    "Name_list = []\n",
    "for i in contact_name:\n",
    "#   print(i.text)\n",
    "    Name_list.append(i.text)\n",
    "Name_list"
   ]
  },
  {
   "cell_type": "code",
   "execution_count": 7,
   "metadata": {},
   "outputs": [
    {
     "data": {
      "text/plain": [
       "['Bonnie Peters',\n",
       " 'Roman Brito',\n",
       " 'Brenna Kalish',\n",
       " 'Louise Scott',\n",
       " 'Sara Ho',\n",
       " 'Lester Crockett',\n",
       " 'Mark Bui',\n",
       " 'Jaswinder Singh',\n",
       " 'Ryan Ashcraft',\n",
       " 'Andrew Bautista',\n",
       " 'Hisham Elhassan',\n",
       " 'Lavina Tang',\n",
       " 'Hephzibah Rodrigues',\n",
       " 'Seata Shyon',\n",
       " 'Richard Brown',\n",
       " 'Taylor Brooks',\n",
       " 'Peter Rogus',\n",
       " 'Meili Liang',\n",
       " 'Emesha Jackson',\n",
       " 'Michael Tanner',\n",
       " 'Carlos Soriano',\n",
       " 'Swati Dontamsetti',\n",
       " 'Magda Sowierszenko',\n",
       " 'Lina Hayek',\n",
       " 'Charles Givre',\n",
       " 'Thi Nguyen',\n",
       " 'Zohar Einy',\n",
       " 'Reeka Maharaj',\n",
       " 'Melissa Wright, MBA',\n",
       " 'Amber Vaughan, MSM',\n",
       " 'Jonah Karew',\n",
       " 'Rashida Ali',\n",
       " 'Irina Kudosova',\n",
       " 'Anais Jackie Dotis',\n",
       " 'Armin Zardkoohi',\n",
       " 'John Slazas',\n",
       " 'Joseph Stec',\n",
       " 'Jim Gwinner',\n",
       " 'Ashwin Avasarala',\n",
       " 'Steffi Wellington']"
      ]
     },
     "execution_count": 7,
     "metadata": {},
     "output_type": "execute_result"
    }
   ],
   "source": [
    "new_name_list=[]\n",
    "for i in Name_list:\n",
    "    new_name = i.strip()\n",
    "#     print(i)\n",
    "    new_name_list.append(new_name)\n",
    "new_name_list"
   ]
  },
  {
   "cell_type": "code",
   "execution_count": 8,
   "metadata": {},
   "outputs": [
    {
     "data": {
      "text/plain": [
       "[<span class=\"mn-connection-card__occupation t-14 t-black--light t-normal\">\n",
       "       Game Developer at Konelek d.o.o. Computer Games\n",
       "     </span>,\n",
       " <span class=\"mn-connection-card__occupation t-14 t-black--light t-normal\">\n",
       "       Quality Engineer \n",
       "     </span>,\n",
       " <span class=\"mn-connection-card__occupation t-14 t-black--light t-normal\">\n",
       "       Instructional Recruiter at Trilogy Education\n",
       "     </span>,\n",
       " <span class=\"mn-connection-card__occupation t-14 t-black--light t-normal\">\n",
       "       Recruiting Business Talent at Marqeta!\n",
       "     </span>,\n",
       " <span class=\"mn-connection-card__occupation t-14 t-black--light t-normal\">\n",
       "       Master in Analytics at Northwestern University\n",
       "     </span>,\n",
       " <span class=\"mn-connection-card__occupation t-14 t-black--light t-normal\">\n",
       "       Derivatives Trader at BlackEdge Capital\n",
       "     </span>,\n",
       " <span class=\"mn-connection-card__occupation t-14 t-black--light t-normal\">\n",
       "       Technical Implementation Specialist at Marqeta, Inc\n",
       "     </span>,\n",
       " <span class=\"mn-connection-card__occupation t-14 t-black--light t-normal\">\n",
       "       I help Owner/Operators in the trucking industry with getting back time for their self and family by making and invoicing money efficiently. \n",
       "     </span>,\n",
       " <span class=\"mn-connection-card__occupation t-14 t-black--light t-normal\">\n",
       "       Data Analyst &amp; Attorney\n",
       "     </span>,\n",
       " <span class=\"mn-connection-card__occupation t-14 t-black--light t-normal\">\n",
       "       Teaching Assistant at Columbia University\n",
       "     </span>,\n",
       " <span class=\"mn-connection-card__occupation t-14 t-black--light t-normal\">\n",
       "       Data Analyst | Data Scientist | Data Engineer | Big Data Analyst | Machine Learning Engineer | Python Developer\n",
       "     </span>,\n",
       " <span class=\"mn-connection-card__occupation t-14 t-black--light t-normal\">\n",
       "       Senior Data Analyst at PepsiCo\n",
       "     </span>,\n",
       " <span class=\"mn-connection-card__occupation t-14 t-black--light t-normal\">\n",
       "       Data Analyst\n",
       "     </span>,\n",
       " <span class=\"mn-connection-card__occupation t-14 t-black--light t-normal\">\n",
       "       Data &amp; Analytics Consultant\n",
       "     </span>,\n",
       " <span class=\"mn-connection-card__occupation t-14 t-black--light t-normal\">\n",
       "       Working with CNF offering international traders DMA to Domestic Chinese Exchanges, please contact me for details. \n",
       "     </span>,\n",
       " <span class=\"mn-connection-card__occupation t-14 t-black--light t-normal\">\n",
       "       Retired Athlete ➯ Relationship Manager ➯ Ed Tech\n",
       "     </span>,\n",
       " <span class=\"mn-connection-card__occupation t-14 t-black--light t-normal\">\n",
       "       Options trader at Walleye Trading\n",
       "     </span>,\n",
       " <span class=\"mn-connection-card__occupation t-14 t-black--light t-normal\">\n",
       "       Senior Statistician at Epsilon\n",
       "     </span>,\n",
       " <span class=\"mn-connection-card__occupation t-14 t-black--light t-normal\">\n",
       "       Wayfinder | Creative Problem-Solver | Solutions Nerd\n",
       "     </span>,\n",
       " <span class=\"mn-connection-card__occupation t-14 t-black--light t-normal\">\n",
       "       Sandstone - Oil and Gas 360\n",
       "     </span>,\n",
       " <span class=\"mn-connection-card__occupation t-14 t-black--light t-normal\">\n",
       "       Freelance Software Engineer at Freelance Web Development\n",
       "     </span>,\n",
       " <span class=\"mn-connection-card__occupation t-14 t-black--light t-normal\">\n",
       "       Data Analyst with a passion for telling clear and thorough stories about our world.\n",
       "     </span>,\n",
       " <span class=\"mn-connection-card__occupation t-14 t-black--light t-normal\">\n",
       "       Helping managers to better lead and manage distributed teams.\n",
       "     </span>,\n",
       " <span class=\"mn-connection-card__occupation t-14 t-black--light t-normal\">\n",
       "       Design Consultant, Coach, CSM, SD, CX, UX, UXR, IXD, UI\n",
       "     </span>,\n",
       " <span class=\"mn-connection-card__occupation t-14 t-black--light t-normal\">\n",
       "       Cybersecurity Data Scientist | O'Reilly Author |Speaker | Instructor | Blogger #thedataist\n",
       "     </span>,\n",
       " <span class=\"mn-connection-card__occupation t-14 t-black--light t-normal\">\n",
       "       Business Analyst with a background in Accounting | Cloud Enthusiast | Skilled in SQL, Python, Tableau\n",
       "     </span>,\n",
       " <span class=\"mn-connection-card__occupation t-14 t-black--light t-normal\">\n",
       "       CTO at Aporia\n",
       "     </span>,\n",
       " <span class=\"mn-connection-card__occupation t-14 t-black--light t-normal\">\n",
       "       Detail-oriented Full Stack Engineer | Curious Cat | Mental Health Advocate | Cat Rescue Enthusiast | reekamaharaj@gmail.com\n",
       "     </span>,\n",
       " <span class=\"mn-connection-card__occupation t-14 t-black--light t-normal\">\n",
       "       Data Driven &amp; Results Oriented | Research Analyst | Website Marketing &amp; SEO Advisor | OrganicResultsSEO.com  \n",
       "     </span>,\n",
       " <span class=\"mn-connection-card__occupation t-14 t-black--light t-normal\">\n",
       "       Career Director at 2U\n",
       "     </span>,\n",
       " <span class=\"mn-connection-card__occupation t-14 t-black--light t-normal\">\n",
       "       Senior Full Stack Development Tutor at Trilogy Education\n",
       "     </span>,\n",
       " <span class=\"mn-connection-card__occupation t-14 t-black--light t-normal\">\n",
       "       UX Designer\n",
       "     </span>,\n",
       " <span class=\"mn-connection-card__occupation t-14 t-black--light t-normal\">\n",
       "       Front End / Full Stack / ReactJs Developer\n",
       "     </span>,\n",
       " <span class=\"mn-connection-card__occupation t-14 t-black--light t-normal\">\n",
       "       Developer Advocate at InfluxData (InfluxDB)\n",
       "     </span>,\n",
       " <span class=\"mn-connection-card__occupation t-14 t-black--light t-normal\">\n",
       "       Software Developer at Poetic Digital\n",
       "     </span>,\n",
       " <span class=\"mn-connection-card__occupation t-14 t-black--light t-normal\">\n",
       "       Founding Partner at DARMA Capital \n",
       "     </span>,\n",
       " <span class=\"mn-connection-card__occupation t-14 t-black--light t-normal\">\n",
       "       Information Security\n",
       "     </span>,\n",
       " <span class=\"mn-connection-card__occupation t-14 t-black--light t-normal\">\n",
       "       Partner at LS2group\n",
       "     </span>,\n",
       " <span class=\"mn-connection-card__occupation t-14 t-black--light t-normal\">\n",
       "       Strategist. Data translator / data storyteller. Creative problem solver. Transformation leader. \n",
       "     </span>,\n",
       " <span class=\"mn-connection-card__occupation t-14 t-black--light t-normal\">\n",
       "       Full Stack Web Developer\n",
       "     </span>]"
      ]
     },
     "execution_count": 8,
     "metadata": {},
     "output_type": "execute_result"
    }
   ],
   "source": [
    "contact_job = soup.find_all(\"span\", class_=\"mn-connection-card__occupation t-14 t-black--light t-normal\")\n",
    "contact_job"
   ]
  },
  {
   "cell_type": "code",
   "execution_count": 9,
   "metadata": {},
   "outputs": [
    {
     "data": {
      "text/plain": [
       "['\\n      Game Developer at Konelek d.o.o. Computer Games\\n    ',\n",
       " '\\n      Quality Engineer \\n    ',\n",
       " '\\n      Instructional Recruiter at Trilogy Education\\n    ',\n",
       " '\\n      Recruiting Business Talent at Marqeta!\\n    ',\n",
       " '\\n      Master in Analytics at Northwestern University\\n    ',\n",
       " '\\n      Derivatives Trader at BlackEdge Capital\\n    ',\n",
       " '\\n      Technical Implementation Specialist at Marqeta, Inc\\n    ',\n",
       " '\\n      I help Owner/Operators in the trucking industry with getting back time for their self and family by making and invoicing money efficiently. \\n    ',\n",
       " '\\n      Data Analyst & Attorney\\n    ',\n",
       " '\\n      Teaching Assistant at Columbia University\\n    ',\n",
       " '\\n      Data Analyst | Data Scientist | Data Engineer | Big Data Analyst | Machine Learning Engineer | Python Developer\\n    ',\n",
       " '\\n      Senior Data Analyst at PepsiCo\\n    ',\n",
       " '\\n      Data Analyst\\n    ',\n",
       " '\\n      Data & Analytics Consultant\\n    ',\n",
       " '\\n      Working with CNF offering international traders DMA to Domestic Chinese Exchanges, please contact me for details. \\n    ',\n",
       " '\\n      Retired Athlete ➯ Relationship Manager ➯ Ed Tech\\n    ',\n",
       " '\\n      Options trader at Walleye Trading\\n    ',\n",
       " '\\n      Senior Statistician at Epsilon\\n    ',\n",
       " '\\n      Wayfinder | Creative Problem-Solver | Solutions Nerd\\n    ',\n",
       " '\\n      Sandstone - Oil and Gas 360\\n    ',\n",
       " '\\n      Freelance Software Engineer at Freelance Web Development\\n    ',\n",
       " '\\n      Data Analyst with a passion for telling clear and thorough stories about our world.\\n    ',\n",
       " '\\n      Helping managers to better lead and manage distributed teams.\\n    ',\n",
       " '\\n      Design Consultant, Coach, CSM, SD, CX, UX, UXR, IXD, UI\\n    ',\n",
       " \"\\n      Cybersecurity Data Scientist | O'Reilly Author |Speaker | Instructor | Blogger #thedataist\\n    \",\n",
       " '\\n      Business Analyst with a background in Accounting | Cloud Enthusiast | Skilled in SQL, Python, Tableau\\n    ',\n",
       " '\\n      CTO at Aporia\\n    ',\n",
       " '\\n      Detail-oriented Full Stack Engineer | Curious Cat | Mental Health Advocate | Cat Rescue Enthusiast | reekamaharaj@gmail.com\\n    ',\n",
       " '\\n      Data Driven & Results Oriented | Research Analyst | Website Marketing & SEO Advisor | OrganicResultsSEO.com  \\n    ',\n",
       " '\\n      Career Director at 2U\\n    ',\n",
       " '\\n      Senior Full Stack Development Tutor at Trilogy Education\\n    ',\n",
       " '\\n      UX Designer\\n    ',\n",
       " '\\n      Front End / Full Stack / ReactJs Developer\\n    ',\n",
       " '\\n      Developer Advocate at InfluxData (InfluxDB)\\n    ',\n",
       " '\\n      Software Developer at Poetic Digital\\n    ',\n",
       " '\\n      Founding Partner at DARMA Capital \\n    ',\n",
       " '\\n      Information Security\\n    ',\n",
       " '\\n      Partner at LS2group\\n    ',\n",
       " '\\n      Strategist. Data translator / data storyteller. Creative problem solver. Transformation leader. \\n    ',\n",
       " '\\n      Full Stack Web Developer\\n    ']"
      ]
     },
     "execution_count": 9,
     "metadata": {},
     "output_type": "execute_result"
    }
   ],
   "source": [
    "job_list =[]\n",
    "for i in contact_job:\n",
    "#     print(i)\n",
    "    job_list.append(i.text)\n",
    "job_list"
   ]
  },
  {
   "cell_type": "code",
   "execution_count": 10,
   "metadata": {},
   "outputs": [
    {
     "data": {
      "text/plain": [
       "40"
      ]
     },
     "execution_count": 10,
     "metadata": {},
     "output_type": "execute_result"
    }
   ],
   "source": [
    "len(job_list)"
   ]
  },
  {
   "cell_type": "code",
   "execution_count": 11,
   "metadata": {},
   "outputs": [
    {
     "data": {
      "text/plain": [
       "['Game Developer at Konelek d.o.o. Computer Games',\n",
       " 'Quality Engineer',\n",
       " 'Instructional Recruiter at Trilogy Education',\n",
       " 'Recruiting Business Talent at Marqeta!',\n",
       " 'Master in Analytics at Northwestern University',\n",
       " 'Derivatives Trader at BlackEdge Capital',\n",
       " 'Technical Implementation Specialist at Marqeta, Inc',\n",
       " 'I help Owner/Operators in the trucking industry with getting back time for their self and family by making and invoicing money efficiently.',\n",
       " 'Data Analyst & Attorney',\n",
       " 'Teaching Assistant at Columbia University',\n",
       " 'Data Analyst | Data Scientist | Data Engineer | Big Data Analyst | Machine Learning Engineer | Python Developer',\n",
       " 'Senior Data Analyst at PepsiCo',\n",
       " 'Data Analyst',\n",
       " 'Data & Analytics Consultant',\n",
       " 'Working with CNF offering international traders DMA to Domestic Chinese Exchanges, please contact me for details.',\n",
       " 'Retired Athlete ➯ Relationship Manager ➯ Ed Tech',\n",
       " 'Options trader at Walleye Trading',\n",
       " 'Senior Statistician at Epsilon',\n",
       " 'Wayfinder | Creative Problem-Solver | Solutions Nerd',\n",
       " 'Sandstone - Oil and Gas 360',\n",
       " 'Freelance Software Engineer at Freelance Web Development',\n",
       " 'Data Analyst with a passion for telling clear and thorough stories about our world.',\n",
       " 'Helping managers to better lead and manage distributed teams.',\n",
       " 'Design Consultant, Coach, CSM, SD, CX, UX, UXR, IXD, UI',\n",
       " \"Cybersecurity Data Scientist | O'Reilly Author |Speaker | Instructor | Blogger #thedataist\",\n",
       " 'Business Analyst with a background in Accounting | Cloud Enthusiast | Skilled in SQL, Python, Tableau',\n",
       " 'CTO at Aporia',\n",
       " 'Detail-oriented Full Stack Engineer | Curious Cat | Mental Health Advocate | Cat Rescue Enthusiast | reekamaharaj@gmail.com',\n",
       " 'Data Driven & Results Oriented | Research Analyst | Website Marketing & SEO Advisor | OrganicResultsSEO.com',\n",
       " 'Career Director at 2U',\n",
       " 'Senior Full Stack Development Tutor at Trilogy Education',\n",
       " 'UX Designer',\n",
       " 'Front End / Full Stack / ReactJs Developer',\n",
       " 'Developer Advocate at InfluxData (InfluxDB)',\n",
       " 'Software Developer at Poetic Digital',\n",
       " 'Founding Partner at DARMA Capital',\n",
       " 'Information Security',\n",
       " 'Partner at LS2group',\n",
       " 'Strategist. Data translator / data storyteller. Creative problem solver. Transformation leader.',\n",
       " 'Full Stack Web Developer']"
      ]
     },
     "execution_count": 11,
     "metadata": {},
     "output_type": "execute_result"
    }
   ],
   "source": [
    "new_job_list=[]\n",
    "for i in job_list:\n",
    "    new_i = i.strip()\n",
    "#     print(i)\n",
    "    new_job_list.append(new_i)\n",
    "new_job_list"
   ]
  },
  {
   "cell_type": "code",
   "execution_count": 12,
   "metadata": {},
   "outputs": [
    {
     "data": {
      "text/plain": [
       "{'Bonnie Peters': 'Game Developer at Konelek d.o.o. Computer Games',\n",
       " 'Roman Brito': 'Quality Engineer',\n",
       " 'Brenna Kalish': 'Instructional Recruiter at Trilogy Education',\n",
       " 'Louise Scott': 'Recruiting Business Talent at Marqeta!',\n",
       " 'Sara Ho': 'Master in Analytics at Northwestern University',\n",
       " 'Lester Crockett': 'Derivatives Trader at BlackEdge Capital',\n",
       " 'Mark Bui': 'Technical Implementation Specialist at Marqeta, Inc',\n",
       " 'Jaswinder Singh': 'I help Owner/Operators in the trucking industry with getting back time for their self and family by making and invoicing money efficiently.',\n",
       " 'Ryan Ashcraft': 'Data Analyst & Attorney',\n",
       " 'Andrew Bautista': 'Teaching Assistant at Columbia University',\n",
       " 'Hisham Elhassan': 'Data Analyst | Data Scientist | Data Engineer | Big Data Analyst | Machine Learning Engineer | Python Developer',\n",
       " 'Lavina Tang': 'Senior Data Analyst at PepsiCo',\n",
       " 'Hephzibah Rodrigues': 'Data Analyst',\n",
       " 'Seata Shyon': 'Data & Analytics Consultant',\n",
       " 'Richard Brown': 'Working with CNF offering international traders DMA to Domestic Chinese Exchanges, please contact me for details.',\n",
       " 'Taylor Brooks': 'Retired Athlete ➯ Relationship Manager ➯ Ed Tech',\n",
       " 'Peter Rogus': 'Options trader at Walleye Trading',\n",
       " 'Meili Liang': 'Senior Statistician at Epsilon',\n",
       " 'Emesha Jackson': 'Wayfinder | Creative Problem-Solver | Solutions Nerd',\n",
       " 'Michael Tanner': 'Sandstone - Oil and Gas 360',\n",
       " 'Carlos Soriano': 'Freelance Software Engineer at Freelance Web Development',\n",
       " 'Swati Dontamsetti': 'Data Analyst with a passion for telling clear and thorough stories about our world.',\n",
       " 'Magda Sowierszenko': 'Helping managers to better lead and manage distributed teams.',\n",
       " 'Lina Hayek': 'Design Consultant, Coach, CSM, SD, CX, UX, UXR, IXD, UI',\n",
       " 'Charles Givre': \"Cybersecurity Data Scientist | O'Reilly Author |Speaker | Instructor | Blogger #thedataist\",\n",
       " 'Thi Nguyen': 'Business Analyst with a background in Accounting | Cloud Enthusiast | Skilled in SQL, Python, Tableau',\n",
       " 'Zohar Einy': 'CTO at Aporia',\n",
       " 'Reeka Maharaj': 'Detail-oriented Full Stack Engineer | Curious Cat | Mental Health Advocate | Cat Rescue Enthusiast | reekamaharaj@gmail.com',\n",
       " 'Melissa Wright, MBA': 'Data Driven & Results Oriented | Research Analyst | Website Marketing & SEO Advisor | OrganicResultsSEO.com',\n",
       " 'Amber Vaughan, MSM': 'Career Director at 2U',\n",
       " 'Jonah Karew': 'Senior Full Stack Development Tutor at Trilogy Education',\n",
       " 'Rashida Ali': 'UX Designer',\n",
       " 'Irina Kudosova': 'Front End / Full Stack / ReactJs Developer',\n",
       " 'Anais Jackie Dotis': 'Developer Advocate at InfluxData (InfluxDB)',\n",
       " 'Armin Zardkoohi': 'Software Developer at Poetic Digital',\n",
       " 'John Slazas': 'Founding Partner at DARMA Capital',\n",
       " 'Joseph Stec': 'Information Security',\n",
       " 'Jim Gwinner': 'Partner at LS2group',\n",
       " 'Ashwin Avasarala': 'Strategist. Data translator / data storyteller. Creative problem solver. Transformation leader.',\n",
       " 'Steffi Wellington': 'Full Stack Web Developer'}"
      ]
     },
     "execution_count": 12,
     "metadata": {},
     "output_type": "execute_result"
    }
   ],
   "source": [
    "contact_dict = dict(zip(new_name_list, new_job_list))\n",
    "contact_dict"
   ]
  },
  {
   "cell_type": "code",
   "execution_count": 49,
   "metadata": {},
   "outputs": [
    {
     "data": {
      "text/plain": [
       "['Bonnie Peters',\n",
       " 'Game Developer at Konelek d.o.o. Computer Games',\n",
       " 'Bonnie Peters',\n",
       " 'Game Developer at Konelek d.o.o. Computer Games',\n",
       " 'Bonnie Peters',\n",
       " 'Game Developer at Konelek d.o.o. Computer Games',\n",
       " 'Bonnie Peters',\n",
       " 'Game Developer at Konelek d.o.o. Computer Games',\n",
       " 'Bonnie Peters',\n",
       " 'Game Developer at Konelek d.o.o. Computer Games']"
      ]
     },
     "execution_count": 49,
     "metadata": {},
     "output_type": "execute_result"
    }
   ],
   "source": [
    "test_list = []\n",
    "for k, v in contact_dict.items():\n",
    "        test_list.append(k)\n",
    "        test_list.append(v)\n",
    "        \n",
    "test_list"
   ]
  },
  {
   "cell_type": "code",
   "execution_count": 2,
   "metadata": {},
   "outputs": [
    {
     "ename": "NameError",
     "evalue": "name 'contact_dict' is not defined",
     "output_type": "error",
     "traceback": [
      "\u001b[0;31m---------------------------------------------------------------------------\u001b[0m",
      "\u001b[0;31mNameError\u001b[0m                                 Traceback (most recent call last)",
      "\u001b[0;32m<ipython-input-2-a8dd3a48b1de>\u001b[0m in \u001b[0;36m<module>\u001b[0;34m\u001b[0m\n\u001b[0;32m----> 1\u001b[0;31m \u001b[0;32mif\u001b[0m \u001b[0mlen\u001b[0m\u001b[0;34m(\u001b[0m\u001b[0mcontact_dict\u001b[0m\u001b[0;34m)\u001b[0m\u001b[0;34m>\u001b[0m\u001b[0;36m0\u001b[0m\u001b[0;34m:\u001b[0m\u001b[0;34m\u001b[0m\u001b[0;34m\u001b[0m\u001b[0m\n\u001b[0m\u001b[1;32m      2\u001b[0m     \u001b[0mtwilioCli\u001b[0m \u001b[0;34m=\u001b[0m \u001b[0mClient\u001b[0m\u001b[0;34m(\u001b[0m\u001b[0maccountSID\u001b[0m\u001b[0;34m,\u001b[0m \u001b[0mauthToken\u001b[0m\u001b[0;34m)\u001b[0m\u001b[0;34m\u001b[0m\u001b[0;34m\u001b[0m\u001b[0m\n\u001b[1;32m      3\u001b[0m     \u001b[0mmyTwilioNumber\u001b[0m \u001b[0;34m=\u001b[0m \u001b[0;34m'+12057402668'\u001b[0m\u001b[0;34m\u001b[0m\u001b[0;34m\u001b[0m\u001b[0m\n\u001b[1;32m      4\u001b[0m     \u001b[0mmyCellPhone\u001b[0m \u001b[0;34m=\u001b[0m \u001b[0;34m'+13122821203'\u001b[0m\u001b[0;34m\u001b[0m\u001b[0;34m\u001b[0m\u001b[0m\n\u001b[1;32m      5\u001b[0m     message = twilioCli.messages.create(body=f'Here are the people who have changed jobs today:{contact_dict}', \\\n",
      "\u001b[0;31mNameError\u001b[0m: name 'contact_dict' is not defined"
     ]
    }
   ],
   "source": [
    "if len(contact_dict)>0:\n",
    "    twilioCli = Client(accountSID, authToken)\n",
    "    myTwilioNumber = '+12057402668'\n",
    "    myCellPhone = '+13122821203'\n",
    "    message = twilioCli.messages.create(body=f'Here are the people who have changed jobs today:{contact_dict}', \\\n",
    "                                        from_=myTwilioNumber,to=myCellPhone)"
   ]
  },
  {
   "cell_type": "code",
   "execution_count": 45,
   "metadata": {},
   "outputs": [],
   "source": [
    "browser.find_by_text('Next').click()"
   ]
  },
  {
   "cell_type": "code",
   "execution_count": 34,
   "metadata": {},
   "outputs": [
    {
     "ename": "NameError",
     "evalue": "name 'driver' is not defined",
     "output_type": "error",
     "traceback": [
      "\u001b[0;31m---------------------------------------------------------------------------\u001b[0m",
      "\u001b[0;31mNameError\u001b[0m                                 Traceback (most recent call last)",
      "\u001b[0;32m<ipython-input-34-61d34e9f021d>\u001b[0m in \u001b[0;36m<module>\u001b[0;34m\u001b[0m\n\u001b[0;32m----> 1\u001b[0;31m \u001b[0mdriver\u001b[0m\u001b[0;34m.\u001b[0m\u001b[0mexecute_script\u001b[0m\u001b[0;34m(\u001b[0m\u001b[0;34m\"window.scrollTo(0, -document.body.scrollHeight);\"\u001b[0m\u001b[0;34m)\u001b[0m\u001b[0;34m\u001b[0m\u001b[0;34m\u001b[0m\u001b[0m\n\u001b[0m",
      "\u001b[0;31mNameError\u001b[0m: name 'driver' is not defined"
     ]
    }
   ],
   "source": [
    "driver.execute_script(\"window.scrollTo(0, -document.body.scrollHeight);\")"
   ]
  },
  {
   "cell_type": "code",
   "execution_count": 26,
   "metadata": {},
   "outputs": [
    {
     "data": {
      "text/plain": [
       "[<span class=\"name actor-name\">John Mulligan</span>,\n",
       " <span class=\"name actor-name\">Shawn O'Brien</span>,\n",
       " <span class=\"name actor-name\">Neil Hunt</span>,\n",
       " <span class=\"name actor-name\">Adam Rabushka</span>,\n",
       " <span class=\"name actor-name\">Frank Valle, CFA, CAIA</span>,\n",
       " <span class=\"name actor-name\">Marcus Bellows</span>,\n",
       " <span class=\"name actor-name\">Jon Najarian</span>,\n",
       " <span class=\"name actor-name\">Joel King</span>,\n",
       " <span class=\"name actor-name\">Aditya Kwatra</span>,\n",
       " <span class=\"name actor-name\">Tim Mulrooney</span>]"
      ]
     },
     "execution_count": 26,
     "metadata": {},
     "output_type": "execute_result"
    }
   ],
   "source": [
    "html = browser.html\n",
    "soup = BeautifulSoup(html, 'html.parser')\n",
    "contact_name = soup.find_all(\"span\", class_=\"name actor-name\")\n",
    "contact_name"
   ]
  },
  {
   "cell_type": "code",
   "execution_count": 27,
   "metadata": {},
   "outputs": [
    {
     "data": {
      "text/plain": [
       "['John Mulligan',\n",
       " \"Shawn O'Brien\",\n",
       " 'Neil Hunt',\n",
       " 'Adam Rabushka',\n",
       " 'Frank Valle, CFA, CAIA',\n",
       " 'Marcus Bellows',\n",
       " 'Jon Najarian',\n",
       " 'Joel King',\n",
       " 'Aditya Kwatra',\n",
       " 'Tim Mulrooney']"
      ]
     },
     "execution_count": 27,
     "metadata": {},
     "output_type": "execute_result"
    }
   ],
   "source": [
    "Name_list = []\n",
    "for i in contact_name:\n",
    "#   print(i.text)\n",
    "    Name_list.append(i.text)\n",
    "Name_list"
   ]
  },
  {
   "cell_type": "code",
   "execution_count": 28,
   "metadata": {},
   "outputs": [
    {
     "data": {
      "text/plain": [
       "[<p class=\"subline-level-1 t-14 t-black t-normal search-result__truncate\">\n",
       "         Vice President at Moelis &amp; Company\n",
       "     </p>,\n",
       " <p class=\"subline-level-1 t-14 t-black t-normal search-result__truncate\">\n",
       "         Manager at Bain &amp; Company - proven change agent, focused on digital, strategy, and full potential transformations\n",
       "     </p>,\n",
       " <p class=\"subline-level-1 t-14 t-black t-normal search-result__truncate\">\n",
       "         Portfolio Manager | Business Developer | Macroeconomic Strategist | Entrepreneur | 10+ years in Interest Rate Derivatives\n",
       "     </p>,\n",
       " <p class=\"subline-level-1 t-14 t-black t-normal search-result__truncate\">\n",
       "         Associate at KF Partners\n",
       "     </p>,\n",
       " <p class=\"subline-level-1 t-14 t-black t-normal search-result__truncate\">\n",
       "         Investment Director at Aviva Investors\n",
       "     </p>,\n",
       " <p class=\"subline-level-1 t-14 t-black t-normal search-result__truncate\">\n",
       "         Vice President at Houlihan Lokey\n",
       "     </p>,\n",
       " <p class=\"subline-level-1 t-14 t-black t-normal search-result__truncate\">\n",
       "         Co-Founder at Market Rebellion\n",
       "     </p>,\n",
       " <p class=\"subline-level-1 t-14 t-black t-normal search-result__truncate\">\n",
       "         Principal at The Boston Consulting Group\n",
       "     </p>,\n",
       " <p class=\"subline-level-1 t-14 t-black t-normal search-result__truncate\">\n",
       "         Technologist, Data Scientist and Product Manager\n",
       "     </p>,\n",
       " <p class=\"subline-level-1 t-14 t-black t-normal search-result__truncate\">\n",
       "         Equity Research Analyst at William Blair\n",
       "     </p>]"
      ]
     },
     "execution_count": 28,
     "metadata": {},
     "output_type": "execute_result"
    }
   ],
   "source": [
    "contact_job = soup.find_all(\"p\", class_=\"subline-level-1 t-14 t-black t-normal search-result__truncate\")\n",
    "contact_job"
   ]
  },
  {
   "cell_type": "code",
   "execution_count": 29,
   "metadata": {},
   "outputs": [
    {
     "data": {
      "text/plain": [
       "['\\n        Vice President at Moelis & Company\\n    ',\n",
       " '\\n        Manager at Bain & Company - proven change agent, focused on digital, strategy, and full potential transformations\\n    ',\n",
       " '\\n        Portfolio Manager | Business Developer | Macroeconomic Strategist | Entrepreneur | 10+ years in Interest Rate Derivatives\\n    ',\n",
       " '\\n        Associate at KF Partners\\n    ',\n",
       " '\\n        Investment Director at Aviva Investors\\n    ',\n",
       " '\\n        Vice President at Houlihan Lokey\\n    ',\n",
       " '\\n        Co-Founder at Market Rebellion\\n    ',\n",
       " '\\n        Principal at The Boston Consulting Group\\n    ',\n",
       " '\\n        Technologist, Data Scientist and Product Manager\\n    ',\n",
       " '\\n        Equity Research Analyst at William Blair\\n    ']"
      ]
     },
     "execution_count": 29,
     "metadata": {},
     "output_type": "execute_result"
    }
   ],
   "source": [
    "job_list =[]\n",
    "for i in contact_job:\n",
    "#     print(i)\n",
    "    job_list.append(i.text)\n",
    "job_list"
   ]
  },
  {
   "cell_type": "code",
   "execution_count": 30,
   "metadata": {},
   "outputs": [
    {
     "data": {
      "text/plain": [
       "10"
      ]
     },
     "execution_count": 30,
     "metadata": {},
     "output_type": "execute_result"
    }
   ],
   "source": [
    "len(job_list)"
   ]
  },
  {
   "cell_type": "code",
   "execution_count": 31,
   "metadata": {},
   "outputs": [
    {
     "data": {
      "text/plain": [
       "['Vice President at Moelis & Company',\n",
       " 'Manager at Bain & Company - proven change agent, focused on digital, strategy, and full potential transformations',\n",
       " 'Portfolio Manager | Business Developer | Macroeconomic Strategist | Entrepreneur | 10+ years in Interest Rate Derivatives',\n",
       " 'Associate at KF Partners',\n",
       " 'Investment Director at Aviva Investors',\n",
       " 'Vice President at Houlihan Lokey',\n",
       " 'Co-Founder at Market Rebellion',\n",
       " 'Principal at The Boston Consulting Group',\n",
       " 'Technologist, Data Scientist and Product Manager',\n",
       " 'Equity Research Analyst at William Blair']"
      ]
     },
     "execution_count": 31,
     "metadata": {},
     "output_type": "execute_result"
    }
   ],
   "source": [
    "new_job_list=[]\n",
    "for i in job_list:\n",
    "    new_i = i.strip()\n",
    "#     print(i)\n",
    "    new_job_list.append(new_i)\n",
    "new_job_list"
   ]
  },
  {
   "cell_type": "code",
   "execution_count": 32,
   "metadata": {},
   "outputs": [],
   "source": [
    "contact_dict.update(dict(zip(Name_list, new_job_list)))"
   ]
  },
  {
   "cell_type": "code",
   "execution_count": 33,
   "metadata": {},
   "outputs": [
    {
     "data": {
      "text/plain": [
       "{'Coco Meers': 'CEO & Co-Founder at Equilibria',\n",
       " 'Ken Blickenstaff CFA': 'CEO at Titan Investment Management LLC',\n",
       " 'Annie Hickman, CFA': 'Principal at Boston Consulting Group (BCG)',\n",
       " 'Edward Woodford': 'Co-Founder at Seed CX | Zero Hash',\n",
       " 'Matthew Carinato': 'Chief Operating Officer and Partner at Trean Group, LLC',\n",
       " 'Mike Pintar': 'Co-Founder at NETenergy',\n",
       " 'Nilendu Ghosh': 'Managing Director at Proprietary High Frequency Trading Firm',\n",
       " 'Jonathan Kuether': 'Manager at Bain & Company',\n",
       " 'Boris Kholyavsky': 'Strategy & Operations Leader and Advisor',\n",
       " 'Joshua McLin': 'Investment Officer',\n",
       " 'John Mulligan': 'Vice President at Moelis & Company',\n",
       " \"Shawn O'Brien\": 'Manager at Bain & Company - proven change agent, focused on digital, strategy, and full potential transformations',\n",
       " 'Neil Hunt': 'Portfolio Manager | Business Developer | Macroeconomic Strategist | Entrepreneur | 10+ years in Interest Rate Derivatives',\n",
       " 'Adam Rabushka': 'Associate at KF Partners',\n",
       " 'Frank Valle, CFA, CAIA': 'Investment Director at Aviva Investors',\n",
       " 'Marcus Bellows': 'Vice President at Houlihan Lokey',\n",
       " 'Jon Najarian': 'Co-Founder at Market Rebellion',\n",
       " 'Joel King': 'Principal at The Boston Consulting Group',\n",
       " 'Aditya Kwatra': 'Technologist, Data Scientist and Product Manager',\n",
       " 'Tim Mulrooney': 'Equity Research Analyst at William Blair'}"
      ]
     },
     "execution_count": 33,
     "metadata": {},
     "output_type": "execute_result"
    }
   ],
   "source": [
    "contact_dict"
   ]
  },
  {
   "cell_type": "code",
   "execution_count": 52,
   "metadata": {},
   "outputs": [
    {
     "data": {
      "text/plain": [
       "[]"
      ]
     },
     "execution_count": 52,
     "metadata": {},
     "output_type": "execute_result"
    }
   ],
   "source": [
    "contact_name = soup.find_all(\"span\", class_=\"mn-connection-card__name t-16 t-black t-bold\")\n",
    "contact_name\n"
   ]
  },
  {
   "cell_type": "code",
   "execution_count": null,
   "metadata": {},
   "outputs": [],
   "source": []
  }
 ],
 "metadata": {
  "kernelspec": {
   "display_name": "PJ_Project",
   "language": "python",
   "name": "pj_project"
  },
  "language_info": {
   "codemirror_mode": {
    "name": "ipython",
    "version": 3
   },
   "file_extension": ".py",
   "mimetype": "text/x-python",
   "name": "python",
   "nbconvert_exporter": "python",
   "pygments_lexer": "ipython3",
   "version": "3.7.7"
  }
 },
 "nbformat": 4,
 "nbformat_minor": 4
}
